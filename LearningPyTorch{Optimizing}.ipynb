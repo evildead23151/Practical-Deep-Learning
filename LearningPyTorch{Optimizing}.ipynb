{
  "nbformat": 4,
  "nbformat_minor": 0,
  "metadata": {
    "colab": {
      "provenance": [],
      "authorship_tag": "ABX9TyMSy6O88cCyrP3T8Nz5ZiS+",
      "include_colab_link": true
    },
    "kernelspec": {
      "name": "python3",
      "display_name": "Python 3"
    },
    "language_info": {
      "name": "python"
    }
  },
  "cells": [
    {
      "cell_type": "markdown",
      "metadata": {
        "id": "view-in-github",
        "colab_type": "text"
      },
      "source": [
        "<a href=\"https://colab.research.google.com/github/evildead23151/Practical-Deep-Learning/blob/main/LearningPyTorch%7BOptimizing%7D.ipynb\" target=\"_parent\"><img src=\"https://colab.research.google.com/assets/colab-badge.svg\" alt=\"Open In Colab\"/></a>"
      ]
    },
    {
      "cell_type": "markdown",
      "source": [
        "# Optimizing Model Parameters\n",
        "Now that we have a model and data it’s time to train, validate and test our model by optimizing its parameters on our data. Training a model is an iterative process; in each iteration the model makes a guess about the output, calculates the error in its guess (loss), collects the derivatives of the error with respect to its parameters (as we saw in the previous section), and optimizes these parameters using gradient descent."
      ],
      "metadata": {
        "id": "ZrujEa8fvla1"
      }
    },
    {
      "cell_type": "code",
      "execution_count": 1,
      "metadata": {
        "colab": {
          "base_uri": "https://localhost:8080/"
        },
        "id": "N7FzMyKEsAGE",
        "outputId": "c1948021-3bdd-4d91-b6db-1a71b1c86d96"
      },
      "outputs": [
        {
          "output_type": "stream",
          "name": "stderr",
          "text": [
            "100%|██████████| 26.4M/26.4M [00:02<00:00, 12.8MB/s]\n",
            "100%|██████████| 29.5k/29.5k [00:00<00:00, 205kB/s]\n",
            "100%|██████████| 4.42M/4.42M [00:01<00:00, 3.79MB/s]\n",
            "100%|██████████| 5.15k/5.15k [00:00<00:00, 13.2MB/s]\n"
          ]
        }
      ],
      "source": [
        "import torch\n",
        "from torch import nn\n",
        "from torch.utils.data import DataLoader\n",
        "from torchvision import datasets\n",
        "from torchvision.transforms import ToTensor\n",
        "\n",
        "training_data = datasets.FashionMNIST(\n",
        "    root=\"data\",\n",
        "    train=True,\n",
        "    download=True,\n",
        "    transform=ToTensor()\n",
        ")\n",
        "\n",
        "test_data = datasets.FashionMNIST(\n",
        "    root=\"data\",\n",
        "    train=False,\n",
        "    download=True,\n",
        "    transform=ToTensor()\n",
        ")\n",
        "\n",
        "train_dataloader = DataLoader(training_data, batch_size=64)\n",
        "test_dataloader = DataLoader(test_data, batch_size=64)\n",
        "\n",
        "class NeuralNetwork(nn.Module):\n",
        "    def __init__(self):\n",
        "        super().__init__()\n",
        "        self.flatten = nn.Flatten()\n",
        "        self.linear_relu_stack = nn.Sequential(\n",
        "            nn.Linear(28*28, 512),\n",
        "            nn.ReLU(),\n",
        "            nn.Linear(512, 512),\n",
        "            nn.ReLU(),\n",
        "            nn.Linear(512, 10),\n",
        "        )\n",
        "\n",
        "    def forward(self, x):\n",
        "        x = self.flatten(x)\n",
        "        logits = self.linear_relu_stack(x)\n",
        "        return logits\n",
        "\n",
        "model = NeuralNetwork()"
      ]
    },
    {
      "cell_type": "markdown",
      "source": [
        "# Hyperparameters\n",
        "Hyperparameters are adjustable parameters that let you control the model optimization process. Different hyperparameter values can impact model training and convergence rates (read more about hyperparameter tuning)\n",
        "\n",
        "We define the following hyperparameters for training:\n",
        "Number of Epochs - the number of times to iterate over the dataset\n",
        "\n",
        "Batch Size - the number of data samples propagated through the network before the parameters are updated\n",
        "\n",
        "Learning Rate - how much to update models parameters at each batch/epoch. Smaller values yield slow learning speed, while large values may result in unpredictable behavior during training."
      ],
      "metadata": {
        "id": "bd3Z49_T0Sw2"
      }
    },
    {
      "cell_type": "markdown",
      "source": [
        "# Optimization Loop\n",
        "Once we set our hyperparameters, we can then train and optimize our model with an optimization loop. Each iteration of the optimization loop is called an epoch.\n",
        "\n",
        "Each epoch consists of two main parts:\n",
        "The Train Loop - iterate over the training dataset and try to converge to optimal parameters.\n",
        "\n",
        "The Validation/Test Loop - iterate over the test dataset to check if model performance is improving.\n",
        "\n",
        "Let’s briefly familiarize ourselves with some of the concepts used in the training loop"
      ],
      "metadata": {
        "id": "aWlxnMxV0nYo"
      }
    },
    {
      "cell_type": "markdown",
      "source": [
        "# Loss function\n",
        "When presented with some training data, our untrained network is likely not to give the correct answer. Loss function measures the degree of dissimilarity of obtained result to the target value, and it is the loss function that we want to minimize during training. To calculate the loss we make a prediction using the inputs of our given data sample and compare it against the true data label value.\n",
        "\n",
        "Common loss functions include nn.MSELoss (Mean Square Error) for regression tasks, and nn.NLLLoss (Negative Log Likelihood) for classification. nn.CrossEntropyLoss combines nn.LogSoftmax and nn.NLLLoss.\n",
        "\n",
        "We pass our model’s output logits to nn.CrossEntropyLoss, which will normalize the logits and compute the prediction error."
      ],
      "metadata": {
        "id": "TrVjfAor00SH"
      }
    },
    {
      "cell_type": "code",
      "source": [
        "loss_fn = nn.CrossEntropyLoss()"
      ],
      "metadata": {
        "id": "lzeEP25N0R0_"
      },
      "execution_count": 2,
      "outputs": []
    },
    {
      "cell_type": "markdown",
      "source": [
        "# Optimizer\n",
        "Improve, to reduce model error in each training step."
      ],
      "metadata": {
        "id": "icVg6i3O1Zic"
      }
    },
    {
      "cell_type": "code",
      "metadata": {
        "id": "49ab7c95"
      },
      "source": [
        "learning_rate = 1e-3\n",
        "batch_size = 64\n",
        "epochs = 5"
      ],
      "execution_count": 5,
      "outputs": []
    },
    {
      "cell_type": "code",
      "source": [
        "optimizer = torch.optim.SGD(model.parameters(), lr=learning_rate)"
      ],
      "metadata": {
        "id": "BNVCDel_1e9U"
      },
      "execution_count": 6,
      "outputs": []
    },
    {
      "cell_type": "code",
      "source": [
        "def train_loop(dataloader, model, loss_fn, optimizer):\n",
        "    size = len(dataloader.dataset)\n",
        "    model.train()\n",
        "    for batch, (X, y) in enumerate(dataloader):\n",
        "        pred = model(X)\n",
        "        loss = loss_fn(pred, y)\n",
        "\n",
        "        loss.backward()\n",
        "        optimizer.step()\n",
        "        optimizer.zero_grad()\n",
        "\n",
        "        if batch % 100 == 0:\n",
        "            loss, current = loss.item(), batch * batch_size + len(X)\n",
        "            print(f\"loss: {loss:>7f}  [{current:>5d}/{size:>5d}]\")\n",
        "\n",
        "\n",
        "def test_loop(dataloader, model, loss_fn):\n",
        "    model.eval()\n",
        "    size = len(dataloader.dataset)\n",
        "    num_batches = len(dataloader)\n",
        "    test_loss, correct = 0, 0\n",
        "\n",
        "\n",
        "    with torch.no_grad():\n",
        "        for X, y in dataloader:\n",
        "            pred = model(X)\n",
        "            test_loss += loss_fn(pred, y).item()\n",
        "            correct += (pred.argmax(1) == y).type(torch.float).sum().item()\n",
        "\n",
        "    test_loss /= num_batches\n",
        "    correct /= size\n",
        "    print(f\"Test Error: \\n Accuracy: {(100*correct):>0.1f}%, Avg loss: {test_loss:>8f} \\n\")"
      ],
      "metadata": {
        "id": "7WGaJmZY2SDh"
      },
      "execution_count": 8,
      "outputs": []
    },
    {
      "cell_type": "markdown",
      "source": [
        "![image.png](data:image/png;base64,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)"
      ],
      "metadata": {
        "id": "At4LAmPk4FpY"
      }
    },
    {
      "cell_type": "code",
      "source": [
        "loss_fn = nn.CrossEntropyLoss()\n",
        "optimizer = torch.optim.SGD(model.parameters(), lr=learning_rate)\n",
        "\n",
        "epochs = 10\n",
        "for t in range(epochs):\n",
        "    print(f\"Epoch {t+1}\\n-------------------------------\")\n",
        "    train_loop(train_dataloader, model, loss_fn, optimizer)\n",
        "    test_loop(test_dataloader, model, loss_fn)\n",
        "print(\"Done!\")"
      ],
      "metadata": {
        "colab": {
          "base_uri": "https://localhost:8080/"
        },
        "id": "Zq6fO2q84Gum",
        "outputId": "e5c7af8b-b676-46a5-e664-bb385f8bfd92"
      },
      "execution_count": 9,
      "outputs": [
        {
          "output_type": "stream",
          "name": "stdout",
          "text": [
            "Epoch 1\n",
            "-------------------------------\n",
            "loss: 2.294309  [   64/60000]\n",
            "loss: 2.280316  [ 6464/60000]\n",
            "loss: 2.263670  [12864/60000]\n",
            "loss: 2.268773  [19264/60000]\n",
            "loss: 2.246892  [25664/60000]\n",
            "loss: 2.220140  [32064/60000]\n",
            "loss: 2.230382  [38464/60000]\n",
            "loss: 2.196624  [44864/60000]\n",
            "loss: 2.198711  [51264/60000]\n",
            "loss: 2.162378  [57664/60000]\n",
            "Test Error: \n",
            " Accuracy: 45.4%, Avg loss: 2.154551 \n",
            "\n",
            "Epoch 2\n",
            "-------------------------------\n",
            "loss: 2.167089  [   64/60000]\n",
            "loss: 2.148162  [ 6464/60000]\n",
            "loss: 2.094072  [12864/60000]\n",
            "loss: 2.118181  [19264/60000]\n",
            "loss: 2.065395  [25664/60000]\n",
            "loss: 2.005395  [32064/60000]\n",
            "loss: 2.040853  [38464/60000]\n",
            "loss: 1.959622  [44864/60000]\n",
            "loss: 1.978135  [51264/60000]\n",
            "loss: 1.898114  [57664/60000]\n",
            "Test Error: \n",
            " Accuracy: 57.1%, Avg loss: 1.887407 \n",
            "\n",
            "Epoch 3\n",
            "-------------------------------\n",
            "loss: 1.925511  [   64/60000]\n",
            "loss: 1.885566  [ 6464/60000]\n",
            "loss: 1.766053  [12864/60000]\n",
            "loss: 1.818391  [19264/60000]\n",
            "loss: 1.705757  [25664/60000]\n",
            "loss: 1.648569  [32064/60000]\n",
            "loss: 1.681874  [38464/60000]\n",
            "loss: 1.573398  [44864/60000]\n",
            "loss: 1.616646  [51264/60000]\n",
            "loss: 1.500360  [57664/60000]\n",
            "Test Error: \n",
            " Accuracy: 62.3%, Avg loss: 1.507106 \n",
            "\n",
            "Epoch 4\n",
            "-------------------------------\n",
            "loss: 1.579226  [   64/60000]\n",
            "loss: 1.536081  [ 6464/60000]\n",
            "loss: 1.379145  [12864/60000]\n",
            "loss: 1.463927  [19264/60000]\n",
            "loss: 1.339328  [25664/60000]\n",
            "loss: 1.326171  [32064/60000]\n",
            "loss: 1.345974  [38464/60000]\n",
            "loss: 1.263950  [44864/60000]\n",
            "loss: 1.310790  [51264/60000]\n",
            "loss: 1.201258  [57664/60000]\n",
            "Test Error: \n",
            " Accuracy: 64.5%, Avg loss: 1.224827 \n",
            "\n",
            "Epoch 5\n",
            "-------------------------------\n",
            "loss: 1.304723  [   64/60000]\n",
            "loss: 1.284493  [ 6464/60000]\n",
            "loss: 1.113164  [12864/60000]\n",
            "loss: 1.231360  [19264/60000]\n",
            "loss: 1.102568  [25664/60000]\n",
            "loss: 1.119194  [32064/60000]\n",
            "loss: 1.142785  [38464/60000]\n",
            "loss: 1.077989  [44864/60000]\n",
            "loss: 1.124472  [51264/60000]\n",
            "loss: 1.035675  [57664/60000]\n",
            "Test Error: \n",
            " Accuracy: 65.5%, Avg loss: 1.056325 \n",
            "\n",
            "Epoch 6\n",
            "-------------------------------\n",
            "loss: 1.126549  [   64/60000]\n",
            "loss: 1.129958  [ 6464/60000]\n",
            "loss: 0.944397  [12864/60000]\n",
            "loss: 1.092348  [19264/60000]\n",
            "loss: 0.962872  [25664/60000]\n",
            "loss: 0.985547  [32064/60000]\n",
            "loss: 1.023389  [38464/60000]\n",
            "loss: 0.966183  [44864/60000]\n",
            "loss: 1.011616  [51264/60000]\n",
            "loss: 0.938094  [57664/60000]\n",
            "Test Error: \n",
            " Accuracy: 66.6%, Avg loss: 0.953001 \n",
            "\n",
            "Epoch 7\n",
            "-------------------------------\n",
            "loss: 1.009548  [   64/60000]\n",
            "loss: 1.033430  [ 6464/60000]\n",
            "loss: 0.833672  [12864/60000]\n",
            "loss: 1.003411  [19264/60000]\n",
            "loss: 0.877850  [25664/60000]\n",
            "loss: 0.894705  [32064/60000]\n",
            "loss: 0.947939  [38464/60000]\n",
            "loss: 0.896860  [44864/60000]\n",
            "loss: 0.938229  [51264/60000]\n",
            "loss: 0.875103  [57664/60000]\n",
            "Test Error: \n",
            " Accuracy: 67.7%, Avg loss: 0.885161 \n",
            "\n",
            "Epoch 8\n",
            "-------------------------------\n",
            "loss: 0.926767  [   64/60000]\n",
            "loss: 0.968230  [ 6464/60000]\n",
            "loss: 0.756985  [12864/60000]\n",
            "loss: 0.942450  [19264/60000]\n",
            "loss: 0.821819  [25664/60000]\n",
            "loss: 0.830038  [32064/60000]\n",
            "loss: 0.895590  [38464/60000]\n",
            "loss: 0.851738  [44864/60000]\n",
            "loss: 0.887125  [51264/60000]\n",
            "loss: 0.830867  [57664/60000]\n",
            "Test Error: \n",
            " Accuracy: 68.7%, Avg loss: 0.837402 \n",
            "\n",
            "Epoch 9\n",
            "-------------------------------\n",
            "loss: 0.864474  [   64/60000]\n",
            "loss: 0.920421  [ 6464/60000]\n",
            "loss: 0.700654  [12864/60000]\n",
            "loss: 0.897987  [19264/60000]\n",
            "loss: 0.782141  [25664/60000]\n",
            "loss: 0.782329  [32064/60000]\n",
            "loss: 0.856144  [38464/60000]\n",
            "loss: 0.820539  [44864/60000]\n",
            "loss: 0.849705  [51264/60000]\n",
            "loss: 0.797315  [57664/60000]\n",
            "Test Error: \n",
            " Accuracy: 69.7%, Avg loss: 0.801532 \n",
            "\n",
            "Epoch 10\n",
            "-------------------------------\n",
            "loss: 0.815098  [   64/60000]\n",
            "loss: 0.882660  [ 6464/60000]\n",
            "loss: 0.657232  [12864/60000]\n",
            "loss: 0.863989  [19264/60000]\n",
            "loss: 0.752235  [25664/60000]\n",
            "loss: 0.746028  [32064/60000]\n",
            "loss: 0.824124  [38464/60000]\n",
            "loss: 0.797212  [44864/60000]\n",
            "loss: 0.820770  [51264/60000]\n",
            "loss: 0.770328  [57664/60000]\n",
            "Test Error: \n",
            " Accuracy: 71.0%, Avg loss: 0.772980 \n",
            "\n",
            "Done!\n"
          ]
        }
      ]
    }
  ]
}