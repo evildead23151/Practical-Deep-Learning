{
  "nbformat": 4,
  "nbformat_minor": 0,
  "metadata": {
    "colab": {
      "provenance": [],
      "authorship_tag": "ABX9TyNPphXIuq/Ps8lT5skBwvzB",
      "include_colab_link": true
    },
    "kernelspec": {
      "name": "python3",
      "display_name": "Python 3"
    },
    "language_info": {
      "name": "python"
    }
  },
  "cells": [
    {
      "cell_type": "markdown",
      "metadata": {
        "id": "view-in-github",
        "colab_type": "text"
      },
      "source": [
        "<a href=\"https://colab.research.google.com/github/evildead23151/Practical-Deep-Learning/blob/main/LearningPyTorch%7BAutomatic_Differentiation%7D.ipynb\" target=\"_parent\"><img src=\"https://colab.research.google.com/assets/colab-badge.svg\" alt=\"Open In Colab\"/></a>"
      ]
    },
    {
      "cell_type": "markdown",
      "source": [
        "# Automatic Differentiation With torch.autograd"
      ],
      "metadata": {
        "id": "Xte5weKZkKSi"
      }
    },
    {
      "cell_type": "markdown",
      "source": [
        "When training neural networks, the most frequently used algorithm is back propagation. In this algorithm, parameters (model weights) are adjusted according to the gradient of the loss function with respect to the given parameter.\n",
        "\n",
        "To compute those gradients, PyTorch has a built-in differentiation engine called torch.autograd. It supports automatic computation of gradient for any computational graph."
      ],
      "metadata": {
        "id": "g22_F0dWkQ1r"
      }
    },
    {
      "cell_type": "code",
      "execution_count": 1,
      "metadata": {
        "id": "6zH2c_PZkDpS"
      },
      "outputs": [],
      "source": [
        "import torch\n",
        "x = torch.ones(5)\n",
        "y = torch.zeros(3)\n",
        "w = torch.randn(5, 3, requires_grad=True)\n",
        "b = torch.randn(3, requires_grad=True)\n",
        "z = torch.matmul(x, w)+b\n",
        "loss = torch.nn.functional.binary_cross_entropy_with_logits(z,y)"
      ]
    },
    {
      "cell_type": "markdown",
      "source": [
        "![comp-graph.png](data:image/png;base64,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)"
      ],
      "metadata": {
        "id": "cHC4SKlznQHO"
      }
    },
    {
      "cell_type": "code",
      "source": [
        "print(f\"Gradient function for z = {z.grad_fn}\")\n",
        "print(f\"Gradient function for loss = {loss.grad_fn}\")"
      ],
      "metadata": {
        "colab": {
          "base_uri": "https://localhost:8080/"
        },
        "id": "O84tnSFTnW-X",
        "outputId": "4fb4f97e-9407-4983-f674-40bc94fb0d58"
      },
      "execution_count": 2,
      "outputs": [
        {
          "output_type": "stream",
          "name": "stdout",
          "text": [
            "Gradient function for z = <AddBackward0 object at 0x7d42c35e8a60>\n",
            "Gradient function for loss = <BinaryCrossEntropyWithLogitsBackward0 object at 0x7d42c35dc730>\n"
          ]
        }
      ]
    },
    {
      "cell_type": "code",
      "source": [
        "loss.backward()\n",
        "print(w.grad)\n",
        "print(b.grad)"
      ],
      "metadata": {
        "colab": {
          "base_uri": "https://localhost:8080/"
        },
        "id": "WlhDpuwqnd3f",
        "outputId": "de603b1c-2a0d-4ce3-b408-8804c3a72192"
      },
      "execution_count": 3,
      "outputs": [
        {
          "output_type": "stream",
          "name": "stdout",
          "text": [
            "tensor([[0.3300, 0.1365, 0.3215],\n",
            "        [0.3300, 0.1365, 0.3215],\n",
            "        [0.3300, 0.1365, 0.3215],\n",
            "        [0.3300, 0.1365, 0.3215],\n",
            "        [0.3300, 0.1365, 0.3215]])\n",
            "tensor([0.3300, 0.1365, 0.3215])\n"
          ]
        }
      ]
    },
    {
      "cell_type": "markdown",
      "source": [
        "Disabling Gradient tracking"
      ],
      "metadata": {
        "id": "pnajZF7Sn4HS"
      }
    },
    {
      "cell_type": "code",
      "source": [
        "z = torch.matmul(x, w)+b\n",
        "print(z.requires_grad)\n",
        "\n",
        "with torch.no_grad():\n",
        "    z = torch.matmul(x, w)+b\n",
        "print(z.requires_grad)"
      ],
      "metadata": {
        "colab": {
          "base_uri": "https://localhost:8080/"
        },
        "id": "RZ9LOIXJnosY",
        "outputId": "abf700bd-8ae8-4e3d-8dd5-933fe8e35162"
      },
      "execution_count": 4,
      "outputs": [
        {
          "output_type": "stream",
          "name": "stdout",
          "text": [
            "True\n",
            "False\n"
          ]
        }
      ]
    },
    {
      "cell_type": "code",
      "source": [
        "z = torch.matmul(x, w)+b\n",
        "z_det = z.detach()\n",
        "print(z_det.requires_grad)"
      ],
      "metadata": {
        "colab": {
          "base_uri": "https://localhost:8080/"
        },
        "id": "7IiIAvDWn6Zi",
        "outputId": "c47da6b9-14e3-4c0a-9752-78a55b184577"
      },
      "execution_count": 5,
      "outputs": [
        {
          "output_type": "stream",
          "name": "stdout",
          "text": [
            "False\n"
          ]
        }
      ]
    },
    {
      "cell_type": "markdown",
      "source": [
        "# More on computational Graphs"
      ],
      "metadata": {
        "id": "KFzvlpsroIWt"
      }
    },
    {
      "cell_type": "markdown",
      "source": [
        "Conceptually, autograd keeps a record of data (tensors) and all executed operations (along with the resulting new tensors) in a directed acyclic graph (DAG) consisting of Function objects. In this DAG, leaves are the input tensors, roots are the output tensors. By tracing this graph from roots to leaves, you can automatically compute the gradients using the chain rule.\n",
        "\n",
        "In a forward pass, autograd does two things simultaneously:\n",
        "\n",
        "run the requested operation to compute a resulting tensor\n",
        "\n",
        "maintain the operation’s gradient function in the DAG.\n",
        "\n",
        "The backward pass kicks off when .backward() is called on the DAG root. autograd then:\n",
        "\n",
        "computes the gradients from each .grad_fn,\n",
        "\n",
        "accumulates them in the respective tensor’s .grad attribute\n",
        "\n",
        "using the chain rule, propagates all the way to the leaf tensors."
      ],
      "metadata": {
        "id": "-deI2-ufoKxM"
      }
    },
    {
      "cell_type": "markdown",
      "source": [
        "#🧬 Real-World Analogy:\n",
        "Think of it like a factory production line:\n",
        "\n",
        "Every operation logs how it converted raw material (input tensor) to a product (output tensor).\n",
        "\n",
        "Then when you want to know how changing raw materials affects the final product (i.e., gradient), autograd traces back the entire pipeline and calculates impact using chain rule."
      ],
      "metadata": {
        "id": "VsjX7XLwpSNz"
      }
    },
    {
      "cell_type": "markdown",
      "source": [
        "🧠 Key Concepts Recap:\n",
        "Concept\tMeaning\n",
        "DAG\tDirected Acyclic Graph — maps tensor relationships\n",
        ".grad_fn\tStores the function used to create a tensor\n",
        "leaf tensor\tInput tensors with requires_grad=True\n",
        "z.backward()\tTriggers gradient computation\n",
        ".grad\tWhere gradients are stored for leaf tensors\n",
        "Chain Rule\tCore principle used to compute gradients"
      ],
      "metadata": {
        "id": "_qLzm0gkpXLc"
      }
    },
    {
      "cell_type": "markdown",
      "source": [
        "If you're ever unsure how a tensor was made, just print its .grad_fn:\n",
        "\n",
        "python\n",
        "Copy\n",
        "Edit\n",
        "print(z.grad_fn)\n",
        "You'll see something like:\n",
        "\n",
        "csharp\n",
        "Copy\n",
        "Edit\n",
        "<AddBackward0 object at ...>\n",
        "This tells you PyTorch knows how to compute the gradient for this operation."
      ],
      "metadata": {
        "id": "XxHVV7zCpjdO"
      }
    },
    {
      "cell_type": "markdown",
      "source": [
        "Note\n",
        "\n",
        "DAGs are dynamic in PyTorch An important thing to note is that the graph is recreated from scratch; after each .backward() call, autograd starts populating a new graph. This is exactly what allows you to use control flow statements in your model; you can change the shape, size and operations at every iteration if needed."
      ],
      "metadata": {
        "id": "3BY3A1F4psGt"
      }
    },
    {
      "cell_type": "markdown",
      "source": [
        "# Tensor gradients and Jacobian products\n"
      ],
      "metadata": {
        "id": "rlZ9gQ1HpwSO"
      }
    },
    {
      "cell_type": "markdown",
      "source": [
        "Usually, you have a scalar loss (like MSE or Cross Entropy), and you call:\n",
        "\n",
        "loss.backward()\n",
        "This gives you the gradient of that scalar w.r.t. each parameter — nice and easy.\n",
        "\n",
        "But sometimes:\n",
        "\n",
        "The output is not a scalar — it's a vector or tensor.\n",
        "\n",
        "Then, instead of a simple gradient, you need to compute something called the Jacobian.\n",
        "\n",
        "\n",
        "In short:\n",
        "\n",
        "It shows how each output value changes with each input variable."
      ],
      "metadata": {
        "id": "6RBtwSpzqKLg"
      }
    },
    {
      "cell_type": "markdown",
      "source": [
        "Why not calculate full Jacobian?\n",
        "Full Jacobian matrix can be very large and memory-consuming.\n",
        "\n",
        "PyTorch usually doesn’t need the full matrix — it just needs directional derivatives."
      ],
      "metadata": {
        "id": "SsDY8i60qVY6"
      }
    },
    {
      "cell_type": "markdown",
      "source": [
        "![image.png](data:image/png;base64,iVBORw0KGgoAAAANSUhEUgAAAo0AAAEBCAYAAAAdN59zAAAAAXNSR0IArs4c6QAAAARnQU1BAACxjwv8YQUAAAAJcEhZcwAADsMAAA7DAcdvqGQAADu8SURBVHhe7d1/bBtneifwr3sotP7ROVc5MTGqtU8UXd8utYHM7GIjdtPVnmpFyeHitrBYpGK2DY8FkovWyMJyxKoGgkVclbrIuCDnNMEtT8YiFAJQLnJK20Smqlul3lCbC5YmNtIGTkY07CiIl2rUZOB1osUBvj9mhvPOyyGHkihblr4fQEA87/wm55ln3ucdZltTU9MNEBERERFV8BvyBCIiIiIiGZNGIiIiInLFpJGIiIiIXNUmaRxKI5/Pl/lLIy7PT0S0KnGkzdjyDz/Al+VmRJHMGe2TNyHydMSRzuWQfi4ktxARbTq1SRrfOYfXXn0Nr736GqbnlwEsQ53W//3aq+eQlecnIlqrr7bhiX3StO914R5Fmrae9jXCoyjw1N/MjRIR3Rrbav32dHQ0h4E2IHOyFeERuZWIaC3iSOdD8GkaNEXBZ6/14NtPzhhtX8YP/uFNPNKwiMWGBjTMp+A9FJOWJyKi1apNT6OLL/c8h/TP3tNLRu+/h9z4D9ButMUn88jn30Tyh2/ivXweudEooqM55PM5JE+N4M139VLTe/88gujXohj5Z3M9Ofz90+ZaiGhLWcwiuwh8ue0v8JA5bd8TaPsq8OFMFp/Z564Yg9q+P2K15fPI/+zv8YMOva0Yi555EWkjFontiCSRM+IWivEsjRdjZ/H2+0LsKvaItmNg9E28J7Qlf8xhPER0e1j/pLEjjv914iH4MIeXf/AkTk0VUPe1RzD0Q3EM0Jdxz7+/gP7veNHakzCmKQh+qwEzf3sKqXc11DW241iqF81qAqd+lMEiFPiP9OIJYS1EtFUU8MOZD4EGP/7wiD6l7ftt8P2/OUz/dylldIlB/q81Av83gaePPYlT5z7E8m/78UgsLoyXVBD8z834xd8+jRemjfbvDwgbkPnQ/uAXmPhrK3b9xQk9tQ39cAjRti9jOX8OL/zgFMav+nGPXGInItqg1j1pfOTPuuCrW8T03xzB0z96DS88fgozi0BD4CE8UpxrETN/+yReu2xbFHOv/1fEXnwBsWdn8CGAusUZxCKn8MIPwvhxHsBOxWEgPBFtBTP/fRpz/68BbaEnAITwF21fBt7PIiHFEbcYlIh0ovPxU3j51dfwwuMv42cagIZG3C+sY+7V/4InX3wZpyJGe+NXofctOlnEzPNhPP2jFxA7Oo0PATT8+yCAR/BQoAH4VRY/7Hocp370AmKhJzG9IC9PRLQxrXvS6N+jAGhA+38z36Z+Du0NAP4NUFec6zMUXrUtBkDDZx9+qP/nTz7DMgAsfwZz9JL6iSbMS0RbzuUEsu8DdV/5Dp6IPIRAwzKy556GETWK3GKQ/8+ew9nJt5F79z289/4AgiXvtAixqCqfoXDW+M/LX+ixCwDgh+e3AVxV8UJx2gw+s2YgItrQ1j1pnPtYA7CI6ZNP4sljwt/ACzgnz0xEVLUP8fS5LJZ3BvAXT9wDRfsZJv6HPI9LDPrWc/jbpx9CoG4OLw/3o//xU8is2/OoioLRi2n1UobgKUlSiYg2pnVPGl+enoWGBrRFv4vgXQDwZQSPHMN3v6WXnImIVu1/pDCzCCi/XYfF7GswR0SLKsag5n+HfwsAWMYX2r/F/p7QOv5kTwIz7y8DShC948/h2OPH8Nz4Mb3Xk4joNrDuSSNGwnjyf2ZQ2BFA6PhzeO7UMRz+D8tYUOUZiYhWKoX//fNFAB9iZiQlN+oqxaAfJTD+rgY03o9jp36A0K5fQF23nkbgheODeO19DcrXHsIT34/i4LVxnJuX5yIi2phq/juNRERUpX0D+Pt/iML/6wyevieMl+V2IqINhEkjEdHNMngWb/oWMf3jN6Du+o84/Ef3I3BXHT58PYJv907LcxMRbShMGomIbpbvJZH7r0Eo5k9HLGtQXz+F7x97GXPSrEREGw2TRiIiIiJytf4vwhARERHRbY9JIxERERG5YtJIRERERK6YNBIRERGRKyaNREREROSKSSMRERERuWLSSERERESuavY7jU1NTfIkIiIiItokapY0EhEREdHmxfI0EREREbli0khERERErpg0EhEREZErJo1ERERE5IpJIxERERG5YtJIRERERK6YNBIRERGRKyaNREREROSKSSMRERERuWLSSERERESumDQSERERkSsmjURERETkikkjEREREbna1tTUdEOeSEREQF1dHXbv3o3t27dj27ZtcjOVcePGDXz++ef49NNPsby8LDcT0W2KPY1ERA7q6uqwZ88e7NixgwnjCm3btg07duzAnj17UFdXJzcT0W2KSSMRkYPdu3czWVyjbdu2Yffu3fJkIrpN1TZpHEojn89bf5NxeY6VGUojn0siKk8noi0qjnQ+h2REnh5FMpdHekievnrbt2+XJ9Eq3K7nMTqas+5hvBcRAbVMGqOjOeTvL2DQ64XX+EsVGjfVRRafzCM3WtsjWo91EtHasZdR1oczU2fQJ0zpPjWO8VPdwpRSPI9Em0fNkkafR4E2N42EMC3WE7b9m4hocypNqNaq78wUzhyXp94MTsfSjeHxB4CJRzEsTB07lsQHvsdu0X4S0c1Ws6RRLWhQ/O0Vexbjk0LpOp+G3vGvl5VKpzuQyt9WD51RmhpNIpfPVygjxJEWy+e2bTmUvYolCX39oWZAaRtA3pzPbBf3S9x2JImcdDxWyaPMOomoBuzXutibHx3NlYkBVE73qTAOLr2BR5+VW8bQ9/IF1HfJSaYbcziB+DnJMVC+N9jb9ViaNObJIRlxWKcQa53WUf6eUp5TdSg+WYPhWES3gZoljYmeVqQWgxgoc+HFJ/MIIVUsXQ/OFPSGSDs8c4PG9EFkNB+6HJYHgHgASJnl7zEVSlvIFvB9fuC01wtvq1MPZxzpfAieGXNbXgzOeBAqm2CKEgi3epGaB7SZQXi9rQiPGE1KEAOBrFWSXwxioKrgUWGdRLQm8UnxWh/ExII+PTqaw4B/tjiMZnDGg1BV12t17jo1jqmpKUxNjWP4iDm1G8PjU8b0KUyND8NW0D1+xmor6eHTdZ8aL67TqQfSmlZhW8fPYOrMsNAubktc7gHsLU7X277pAy78o9jHKDjbh/NX9sK/it5GX3cAWTN2zisIHjXjcRTJ3ACCi9Y9wztWQPCElOQ3twDPe23x01pnCmpzCPl8rzGPsY2Hha4Cl3uKk1hWlTpI4gg0a8i8ErPNR7QZ1SxpBIDYIT1Az/qlnrNIEl3NKlKHrIsq0RNGDABGwujsMVO8BKbnNCgeX3E+UexQp74MAPRnocKDRuGpUT3nlCwahgLwaRmcLm4LSPRMQFVa0L6WHj4tg0HhuGKvZKA1B1wDDxGtLyuOJBDrTwCIot2v2OJEomcCas2u173YjyQ6OjrQMbGEg4+YCdsY+g536NM7OvCSuh9hcxzgkWGMdwFvGG0dHfbyL6Ane4+1LuGNjsPoOwtcXrpmLTs+jG504676a/jkEipvCwD27gdeNtpy9bjPaOs78xj2qy8Zy72BK9YSwJFvYj8+wNtnxYl2l5euYe9XndLdytQxK6bHXslAUzzwQe9MaFHs9wz0p5DRfAiILzvNT5Q8bFvrjCE7b58nllWBBmusvds9xVF/ChkEETL3YygAnzaLaT700xZQ06RRp/eg2Z4KD3igaAWo8qwGsWw90KbIzZaIUX7O55HPh/TgUqVoowdYXJCSShUFTYHngG3i2owswOhDJaKbSkPhov5fsUNepBCShoz44FEAX7dY8gzBV02iUJUrOH9sTP/PZ+dwZdcd2Ge09J2xev8ea91VXKK7bT+Qe700UTTs7ZrCVBfwhpRM1t/Vje62OwCY21jCVSOpK7ctAMCV8+gz5hs7dhiHj40B6IN/r7DvqzB2dUmetDaO94wEFhYBT6N7bcikFjRohXJ3ntXeU/TODV9Af9SIB3yVOyyINpF1SBoN4lPbxYL1BCmJT+bRVRBLxpo8iy6SRO6EBxNmKcGbKpuEOkksFGxPmBbrRlMTkUZ45GlEVCPlHvT0hFCkVz68GJxrwUAuiShUFDQNmZNmDDH/1mFoyJG7UH/tE1yG3lP4wN4rxd7El3JGT2EVruQu4BrqcVex1K0naLvq92FfPXD+J4D/+D7cgbVvay2676rHtaXL8uTVq3DPKCzUKD1bwz0lMTVrVJTiCDSryPbLcxBtTjVLGuOT0liToQB8KGBhBMDINGY1n23sUHQ0iTiiaGwQg4BePnIkP3kOBRwDSln9WahKEL22AfG9CMIsK+g3o5YOsz2OdHcVW1CEMgWiSB4NAjMpo/S+gAKEckokid5KPalE5MLo5em2x5v4ZAi+YhkyiuSkNVY5sWD2/ScwPQdh3NwqHRnG+NRUxZ+a6W7bj11LV1HsuzMTSPThQaH3b+zqEna1Pug4jhEAcLUPh1/8APsfF8ZIXvoE1+r98C/NYfjSJ6j/1n2oF5cps63yLuOTa9aYxL4z0pjGs2/jA+zHN4XEVbavfheWrq6+p7KEwz0DQ2mEapmgreWeMhLGxLwPXbkueMx4T7QF1CxpVAsehIS30PLdQMprjhdJINw6iEyDUS7K5zHgB1QkED6nCuWiXngWy/Q0GuNIBsz1B1D1U6Euhk5vCoW2AWEfZjFYfGkmgfDzGaDYHkB2zL6F2CtmuzBeU8ugEDD3Xx+43VocNxlD55hwfEeBCakn1XGdRFRWoqdVf4FFiDchpOAtjn9LYEGMFd1AyrjOxRf2irGqZi/C7MUDZlnY9wFeetQoKD/7Oi7gIB6bmsLUlB+fiL1/zz6Kl3L1xeUcX4Q524fDE0s4+LjxssvZq1jatRf1uGwkdLusBLXStsoaQ99Pruil8Kkp+H8hjWnEGN5WgYP/qWTPdEeGcd/eK5grebN6LUrvGfZ7Sg2s8Z4Sy6pQFGB2qkY9n0S3gW1NTU035IlUpaG0/oPmjm9rE9HtrKmpSZ60hXVjePwx3PGTDulnd8pNt7t06ZI86fbH+E9bUM16GomINpMbN/g8bRlD3+E3AOn3GLtPhbFffaliwrg5z6M+fIkvwNBWw57GteCTJtGmdeedd2LHjh3yZFqh69ev45e//KU8+bYVn9T/pwzazKAwFIloa2DSSETkoK6uDnv27OH/O3kNbty4gY8//hjLy8tyExHdhlieJiJysLy8jI8//hjXr1/fpCXW9XPjxg1cv36dCSPRJsOeRiIiIiJyxZ5GIiIiInLFpJGIiIiIXDFpJCIiIiJXTBqJiIiIyBWTRiIiIiJyxaSRiIiIiFwxaSQiIiIiV0waiYiIiMgVk0YiIiIicsWkkYiIiIhcMWkkIiIiIlc1+39P79y5U55ERERERJtEzZJGIiIiItq8WJ4mIiIiIldMGomIiIjIFZNGIiIiInLFpJGIiIiIXDFpJCIiIiJXTBqJiIiIyBWTRiIiIiJyxaSRiIiIiFwxaSQiIiIiV0waiYiIiMgVk0YiIiIicsWkkYiIiIhcMWkkIiIiIlfbmpqabsgTiYgIqKurw+7du7F9+3Zs27ZNbia6bdy4cQOff/45Pv30UywvL8vNRFVhTyMRkYO6ujrs2bMHO3bsYMJIt71t27Zhx44d2LNnD+rq6uRmoqowaSQicrB7924mi7TpbNu2Dbt375YnE1WlNkljJIlcPo24PB0AhtLI55KIytNvofhkHun/k0Y+n3f8Sw/JSxDRxhBHOp9DMiJPjyKZq+21u337dnkS0abA7zatVm2SxpFpzGo+dI2WpobxgA/a3DQSckOVoqM55Ccd09HViSTR1awi+x874fV64fV6MTijAfOp4r87++WFNotyN9y1WI91Et167GWU9eHM1Bn0yZNvmm4Mj09h/FS33ECC7lPjrueI321ardokjUhgek6D4m+XehTjCDRrmJ1abcpYe9GOFmAmhZjcQES0arVPqPrOTOHMcXnqzeB0LN0YHn8AmHgUw7bp66ea5GdNjgxjfHwY67iFqtT6OMeOJfGB77Fb9N2hza5GSSOQmJqFprSgXexxGgrAp81iekT/Z3Q0J5SB5XK2Xl4qtueSeHUyj4E2BWgOSWXjONK2krK4LqNMNZpEzliPlchG0e5HVUls+X01etaGjPU7tlv7lhN7X4ekkritB9VY76gxT7ne1UrrcBgmUOypjSSRy4fgg4LgCeu8mO224xXWWdrTK5QBy6yT6NYrfx2Wv7apnO5TYRxcegOPPiu33Exj6DvcgcPHxuQGshlD38sXUN8lJ/5Ea1ezpFEvUSto6TCDcxTJ+63SdHQ0hwH/LAaLJWEPQsVkJIpkbgAtc4PFEnFqDvjHQ/bSsV42jiOdD8EzY807OONBSEpYfH7gtNcLb2vYKo0PhRCElcSWU3lfAUBB8H5j/d5BZDRfsT0+Ke7bICYWjEWG0sh3e5A5qa/T6x1EpiFkTyqhIOjJ6u2HHPpCq1pHGSNhtHpTUKHpy4vnpTmEXpyu7TqJbqFy16H7tb02d50ax9TUFKamxjF8xJyql1X16VOYknu3jp+x2kp6+HTdp8aL63TqgbSmVdjW8TOYOjMstIvbEpd7AHuL0/W2b/qAC/9Y2seo75ewPXOdFbbVd8ZhfpNwLh5r3eU4vbRXzn7M1rnpw5nxYQwXt2d+Jsb8jx/Erl0H8VjZ9UqODGNc2l/bZ3FkGOPljgt9OCOcpzPHrfkfa92FXa2PSftYZhnA2P9xDJ+qcE7O9uH8lb3ws7eRaqx2SaNcoo60o0VRMdGTMHr4FKjnrKQi0TMBtTmgP+UPhRBEBqd7rJQj1lMmARkKwKfZ5030TECVejnFbZniAZ/jdDuXfQUAaMg8b7YnED6nAg2NxaRV8fjMJRHr1+eKB3zQZk4jXExY9eXsJX0NmVcckkVDdetYhfkUWovns0brJLrFSq/Daq7ttdiL/Uiio6MDHRNLOPiImbDpPWQdHfrfS+p+hM2b/JFhjHcBbxhtHR0O5d/jZ/BY6xLe6DiMvrPA5aVr1rLjw+hGN+6qv4ZPLqHytgBg737gZaMtV4/7jLa+M49hv/qSsdwbuGItARz5JvbjA7x9Vpyobz/cumTs+0u4cA24Ipavy2xr+FFr/zomgAfOGOmVdC5eyhnHCQDPPlo6zdB35jHc8RNznW8AXULitesg9i/px/VSDjj4n/qsc/TiBVy7dgEvGdszezDtSa2QsJUkYn3w772CuWf1/z7z+B04Lx5XMWE3S/vWcT/6rL6+w8YxXcuZ517/jEuXkY4Lu3Cwfq7YttT6YMnDxuWla9j7VXkq0drUMGm0J2/RjhYo81lj7KAPHgXwdQtl1XwIPnjQGAGijR5gccElmdM5z6uioCnwHLBNlMQRaFaRdX3JpfK+uokd8iIFvZxulWujaGwACgvSEV4sQFM8MG9tldViHVW6WIAmTyPa8DQULur/5Xwdru3adncF583S6bNzuLLrDuwzWsREROxB627bD+ReL00UDXu7pjDVBbwhJZP1d3Wju+0OAOY2lnDVSOrKbQsAcOW8kZQAY8cOG4mSnvwU971WHLcl9U52WX2abufCWR/8e43zNDXl0EtqHdfY1SVbSzm2pFZM8gAM/+KKlYgd92PvlTl9f4/7sRd78YDDcelJ9wW8vqLS/j7csctMSAFgGHNXduGOJvPf14Se32E86vCwUe3xEq1ETZNGIIbsvIKWjrj+RJ81e81UFDSjhGmUhfS/VoRHgMRCwdZTV0n5ea0bhpPoaBd8xSS2ksr7Wo3YIaP0NdeCgVwSUSSwsAh4Gkv3GloBqjzNUS3WUaUDHijyNKINodwDop4Qikqvw7Vf21U7chfqr32Cy9B7Ch/Ye8W5B83FldwFXEM97ir2MOnJwK76fdhXD5z/CeA/vg93YO3bWrGzV7FUTJQeq27M45FhhFuBCy+aPXK2Ps1Vso7X3lu3OmV7GgHg2ddxod6PPgB9X623l+yvvGFPNg/3ocZp+Ip031WPa0uX5clEa1LjpBGIZVUobSEEFbFXL4HpOSB4tMyLEv1ZqEoQvcI4uvho9fNGR3tdxirqL8BUKv1aXPa1oiiSk9ZyiYVCsUU/L73CT9NEkTwaBFbwc0Su6xhZQAE+BMwXhiJJ9LZVkf41dwnrjCPdbZXxEwsFQCjfRUd7EaxilUTrQx8G4+u2v8ASnwzBNz9hJH/lrsO1XNsCYyxayTgyQXfbfuxaumolDWYCiT48KPT+jV1dwi6H0mLR1T4cfvED7H9cKE1e+gTX6v3wL81h+NInqP/WfagXlymzrfIu45NrVtm174zUW3f2bXyA/fimkLgCZk+bkCg9Kvd1lWP2inZj+FvWlsauLmGX75t6SffIMMJV7fsw5q7sLZa+V0zoDTZV6mkExvC2Wg//8T7464WS/bNzuLL3PqF8LDh7FUu7DuLBCuMLd9XLe2H/THBkGPftNYcgVGdf/S4sXb2VaSttRjVPGtGf1Xu9pF69RE8rUotBDAhvNFpv5cbQ6U2h0DZQbAt59BK0PuZIfHu6dN4B/ywGK72EEWlHS8Wk0q7yvlaSwAKE5bqBlLlf/Z3wjhX0t4zzeeTz+os/1ljCKriuI4bOMdUqvx0FJmbEQnMMqRmUvuk8Pwsctcp1nplB67cq+zuRmvchZBxTLyaQsdWuy6yTaJ0kelr1F1iE6zOElPDyWPnrcPXXdjWs8uRjvg/wkplEPfs6LsB84cKPT6Sxei/l6q2yZskLFMbYt4klHHzcHFt3FUu79qIel42EbpeVoFbaVllj6PvJlWKJ1/8LaUwjxvC2ao4HFDw7hyt7H7D3ypnjE8sxxgXqxxsGVGFL4r4/ApwX9t0saYsvjZi9f8OPvoGl4oskDi8alWPbl8oPAaKxmQ9Q3/UA6tW3hZ7EYTxqfEbmfljrG8ajL15AfbGEbn+RaezYeeE8mg8H5hvQxjKPH8TSxAp6UI8M477ieEui2tnW1NR0Q5642cQn8+gqrDBB2yKiozkMeCac39Ym2sKamooDyAjdGB7XXzgxe926T40jjKT1EzhHhjH++B047zC+jm6m0s/KyaVLK+i2JDLUvqdxw9FfgNHf4iYiqs6NG5v+eXoFxtB3+A1A+O2/sZkPALGH7/H9+OBFJoy3WvepMParL1VMGPndptXaEj2NVB57Gomc3XnnndixY4c8mei2d/36dfzyl7+UJxO5YtJIROSgrq4Oe/bs4f+nlzaVGzdu4OOPP8by8rLcRORqC5SniYhWbnl5GR9//DGuX7/Och7d9m7cuIHr168zYaQ1YU8jEREREbliTyMRERERuWLSSERERESumDQSERERkSsmjURERETkikkjEREREbli0khERERErpg0EhEREZErJo1ERERE5IpJIxERERG5YtJIRERERK6YNBIRERGRq5r9v6d37twpTyIiIiKiTaJmSSMRERERbV4sTxMRERGRKyaNREREROSKSSMRERERuWLSSERERESumDQSERERkSsmjURERETkikkjEREREbli0khERERErpg0EhEREZErJo1ERERE5IpJIxERERG5YtJIRERERK6YNBIRERGRKyaNREREROSKSSMRERERuWLSSERERESuapw0RpHM5ZEekqfXVnQ0h/xkXJ5cFB3NIZ9LIio3rJl+fJXWHR3NIZ/PIRmRW1YrjnR+/c8p0W1lKI18Pq//Vbgeb0fxyUrXuxGDjGMvzhdJIlfTuFMb6xeLq7BBz0l8Ml/x/kW0kdU4adwYEj2t8LaGkZAbakKDhiBCjkE9jlCbIk+sII60a1CLodPrRWe/PJ1o64o3FjDo9cLrHUQGQfSO1iotqeaaXKFIErl8GlWlCZEkuppVZMtd75F24JwXXq8X3jEVvm5jvSNhtHpbER6RF1gn1RxTJInetgJS6xaLXYyE0TpWQPDozUta45N55Fy+i7FDXngPxeTJRLeFTZk0ri8FgAZfoDRcRke74JtXocoNRFRTsR4zEUkgfE6F4m+/aYnBeop2tAAzKZRNKUbCCJsJZX8KGc2HgOMD7K0XfzhY+Vhuhv4sVKUF7bV8CCDawtY5abSXUvLyk2kkiVyxTXxCk5dzfvLXS8HGPGJ3/1DaXhIRS1kO20kP6SXgStsSFc5NQG3ukuaLot0PZF7JihOL5eWSUlokiVw+BB8UBE9Y0/XSe9I4/hySEbHkL5eqjfPEUgdtMfFJ65pKNxagCW22uGC73p2GtgjXV8VrMl423pT2Lgm9lUNp5E8EocCHkBynSugxZHaqQr+cGDNz7cCi2SD2kLrFNbO9TKm7JscUR6BZE47FYZ8m41Ksl2OvPq8cr51ifbzMZwPEkJ1X0NJR5pGiZHnhGB3XJ9+bzHuaPj3UDChtA/b15JJIGt/X9JD9OyiXqvXvmEsPLtEttL5JY6QdnrlBvZTiHURG86HLDACRJHInWjB70ii1eFOYBYyLbwDBxZQx3QvvWAHBE9KF1BxCL05b624IlS0LxANAqrguFUpbyLYuX3cAWaM9Na9UUc6IITUDBB8Wg1cIQcxiWi4PDQWAMesYVcUobY+E0epNQYWGzEmvvZze3AI874W3pNwUQ+fJDDxmSWoohCAyGGSpg7aQ+GQeIZjxYRAFfxDmoJDoaA4DbQXrevemUGgbqDBGUFDxmqw+3tj0d8J7MgMNqr5Pla7VcjHEJMfMcx4Em+WZLG5xzdfda8QZL7wnM/B0y0lbGdUcU6QRHhSwIB2LtU8pqM0h5PPWPqTmFXtMRQyd3kHM+geQG40jmRtAy9xg6faUILrMz+ZkBlpzyPZ5qwUNiscnLmEnLD84A/2BIZAV1id0EJS9pyUQbvUiNQ9oM4P22K0E4cnqxygPM4od0r9LZqdAqA3InOy8tb2zRBWsb9I4EkZnjxl2E5iesy5evXRxWkiKYgj3JIBIO1oUFSkxMDiVYeZTaBXWXalEFTskXIT9WajwoFEIjuqY1R57JQNN8aBCiAEAJKZmoTUHrKfM+31QzzmM3envFAJFDNl5wNPotJeC+YnyY5NGwpiY96FrNIl0tweZ5x22SbRZDaURahbjg37tY3EBCUTR7lds17P+gOc8nGRFVhBvViseKBNDAD3GHJViZn8KGU1D4aI0q8EtrqljQmIzEsZEpR651dAKJUN1rH3SY6EY62JZFWholM5pAuHWQcz6Q2iZGxQ+A4GWwWlz+kgYE1KMTSwUHNYrEJZPTM1Cg4bMK8aZG5nGrKbAc8CYt8I9rSwtg1S5MarGd8l3fxLJyRA8tnsi0cazDkmjPYiJZaSB4ksiUTQ2AIUFhwBwwAOlJNgksLDokmxdtJeobGxl8JBrQliVYvIWLSa6zoPX7eWMUIWegWrFDqVQaAsywNCWE230APNZW09MtNEDraAC8MGjlCZRrknDalSKN6sSR6DSCzDGsdlL1z54lNLevNVSC7U9IjdqQTM+t0r0ypPnnNnjWNNPsdTIAgoOPaQi53vaGvR3IrUYRLBBSH6JNqgaJ40+eIRrKD6ZR1fB7Mr3YnDGDEoVksCLhZInYpNjkmk64CmWqGwiSeROeDAhlKvcwlS1Yq9kAH87kmUHfJsBz9y2Xr5Yq+hoFzzzKiCV2Yk2O59HkRINvaSnJ1MqCmKvkGhxoUwP3iqVizerpL9EZ0+GbRzKva7LrJBPDN61UCaOVy+OdF6Pn539Zo/jQJkxlC5q9PmXv6etQSSJrgYVatlf5SDaOGqbNA4F4NPMMTlyb6JeOjLFsiqUtl5hDE0cydGoUQ7wISQNdg7JT+G2F1HiSHeXKe3IPZdDgTUGMsHINGYRRLBZxYTjE6Lc8xFHYK09jUNpDPhncfpQJ07PeOzniWiTUwuarSwcnwzBVyxx6uXC4s/Q6HPosSGrp1aJhQJQHFYCREd7EawmV6oQbxz3yVqyCuZLdBXSv5EFFCAM0Ykk0dvmsowL3/32lwVDQhxb8zGNLKAgDQNaOfnnxvRxgyVjGl3EA74qejSrUfmetjpxpE+0YPb5TnQ+L4xXJ9qgapM0mm+adUP4TS5jrEa32ZXfC8+i8FTW32m84GKVjT0LieIYlkxDyHpDrRtIeaXBwfOzwFFh2ZnBkkHGgDHuB0EMmOsKoGY9jcXxVGWf9o0XZorHGABsPY1CezU/gBtJIifcrBI9p/XzxMSRtohETytSi9b1HELKlkQkeloxOOPR3+o1YgPGhMSjvxOpeeOt33wevZhAxtZZVOaarBBvEj2nbTEmkJWqGcZQlrJvGkfa0VLpBRhAT6BOZuAx4+mJFsyelF+UWxl1DugtxliP7QWMNR+T21vLN00UjQ1yWX+1XO5pZvVJfHu6oiiSOeGhZySsdwTw7WnawLY1NTXdkCcSEZEuOprDgGdixT1c1TJLno4veawLa9iM44N2rRSHBt3Ct4GH0sjfX8DgrfqBcaJNpjY9jUREtAr6CzDOw1tuc2bPWTVVlPUQSSLHX5ggqikmjUREt0wMnbeyJ26dre//0tXFzf5fKxJtASxPExEREZEr9jQSERERkSsmjURERETkikkjEREREbli0khERERErpg0EhEREZErJo1ERERE5IpJIxERERG5YtJIRERERK6YNBIRERGRKyaNREREROSKSSMRERERuWLSSERERESumDQSERERkattTU1NN+SJq7Fz5055EhERERFtEjVLGomIiIho82J5moiIiIhcMWkkIiIiIldMGomIiIjIFZNGIiIiInLFpJGIiIiIXDFpJCIiIiJXTBqJiIiIyBWTRiIiIiJyxaSRiIiIiFwxaSQiIiIiV0waiYiIiMgV/9/TREREt6mdO3fivvvuw/bt2+UmfP755zh//jx+9atfyU1Eq8KkkYiI6DYVDofxxBNP4L333sOvf/1r3HfffXj33XdRKBTw9a9/HW+99RaOHz8uL0a0KixPExER3aa+9rWvIZVKIRKJ4OLFi/jiiy9w9uxZHD16FJOTk/jXf/1XeRGiVWPSSEREdJs5cuQIHnzwQWzfvh1TU1MAgK985Sv41a9+hffffx8AsG3bNly+fFlacvWee+45vP7667a/v/7rv5Zno02M5WkiIqIN6t5778Uf//Efy5PR2NiIxsZG/P7v/z5gjG38u7/7O/zLv/wLwuGwPHtNfOc738Hu3bvxve99D3feeSfOnDmDt956CzMzM/KstEnVuKcximQuj/SQPL22oqM55Cfj8uSi6GgO+VwSUbmB1kkc6XwOyYg8najW9BiTz4t/4nfPas+NGhFgKG3Ml0Y8kkSuiu/qLY8hkSRy+TT0KBdHOr/+cRUwt+t+fmrBLY7LVjq/3Xqdw/Var+WnP/0pnnrqqZK/hYUFPPXUU8X5vv3tb6OhoQHz8/O25Wvpxz/+Ma5evYovfelL+Oyzz5gwbkE1Tho3hkRPK7ytYSTkhg1sbQFx84hPCjd7ojLUMS+8XvOvFeERfXp0tBfBxRS8Xi9aexL6Tb3bg8xJL7zeTsRGwmgV5i+nljFk7dd2DJ1eLzr75elrV7JvVZ6f20+NzqEtmUft1rtCjY2NeP755/HTn/60OO0rX/kKAODdd98V5qy9/fv3Q1EUfPTRR0wYt6BNmTQS0dbk8yjQCqo1IdIIDwpY2HRJEG0V+/fvxzPPPIO/+Zu/wcGDBwEAX//613HixInivwHgwIEDtvGM68Xv9+NLX/rSum+HNqZ1ThrlUpL4hGY+tVntVg+TvJxzuSQ6mrPmEZ+Wh9L20lKxPOW8nfSQXmKotK2ikifN0mm2/XKc174v8ck8BtoUoDmEvK3UIe6XvC5j30eN9TmW0syycbnjK7eOStu1lrOOodHWWtpb6FC+lj6T9JC+zlAzoLQNuH8ORDYO359X08ifCEKBD6G8GSNKv4vxSYfvuhxD5JgkxBuzt05cj/n9L39ty+zXXLpDbLMP+9G3lzT2xzqW2sQd+fxUjsWVjl0nxRLHOFWGLUak0S63S+sWt1t6joRz6BrDy+zzkNP3aSXrLf8dik9K9zDDzp078cwzzwAAfu/3fg9PPvkkAODP//zP8Qd/8Af4wz/8Q5w4cQKvv/467r33XuzcuRMnT55ET0+PtKba8Xq9+OKLL3Dx4kW5ibaA9U0aI+3wzA0aJaRBZDQfuswLO5JE7kQLZk+aJaYUZgHjwhoolpi8Xi+8YwUET0gXY3MIvThtrbshVLasGQ8AqeK6VChtIdu6fN0BZI321LyC4NEKgW1kGrOaDwEh+McfDgIzKcSMYDXgn8Wgsb7BGQ9CZjAoc8yxQ14MzmjAvH7MeqkjjnQ+BM+Mef6MdUlB1+cHTnu9FUppCoInrONzOpf2dbhtV/98WoqfqxcTniB8wvpcDaWR7xY+k5MZFJBAuNWL1DygzQzaSo5EMl+3fFN3+P78USe8JzPQoOrftUMxeTWIT+YRghVrBmcK8iwO33k93tgSwOYQAlkxxvQiGSl3bcv0aw7FkvsgCv4gFHk2UXML8Ly3eJ3ULu6Iqo/FTscOABgKCMeVgqoEESqbOAtKYkQBLW3iGZHPWQoFcbsoPUdFLjG87D73u3yfKq63iu+Qg+9+97v49a9/jXfeeQe/9Vu/heXlZQDAyMgIlpaWoGkaTp48iQcffBB333037rnnHjz00EMYHR2VV1Vi586d6Orqwt133y03ldXW1obf+Z3fgaZpeO+99+Rm2gLWN2kcCaOzx0xlEpie06B49PRCv5hOCxdzDOGeBBBpR4uiIiVekP0pZKSLEfMpY8wSACQQPqdC8bc7JnuxQ516MACA/ixUeNAoBBd1zGqPvZKBpngqJEH6cfgCZtiMI9CsYXYqASCKdr8C9ZyVwCV6JqA2BxCvdMxOhgLwaRmcFtoTPRNQlRa0i/subMuZhsxJ8fhLz6VtHW7bNT6fCaE9digFoSDoIork/T7bOcdIGOGSGxZRebYxjWUfmFxEkuhqtseaRE/Y+l6aSr7zeryxYoAej4pJV38KGU2B54DVXJFxzaWK10AC4ecz0Oxz2c1PCHGkhnFHtIJYXPbY+zuFZDSG7DzgaXSK0nbxgA+amcRBjxGnZ4QzUnLOYkjNAC0dwrpt50hUKYavfp8rrtflOxQ75JCEAnjrrbcwPDyMb3zjG/jN3/xN/OxnPwOMcYsLCwv44IMP5EWq9tRTT+H06dMYGnLJXAXieMZ33nlHbqYtYB2SRg0FoddaLFsMFJ8Uo2hsAAoLDoHrgAeKVpCSkAQWFl0u3IuF8kHWVpoJVUgIZc5lCjEgYygAXzE4+eBRpF6QfAg+eNAYqXDMDqKNHmBxQboZqiis5GbkSD+X5bhu1/HzWQkfPIr9O0J0S1T7XT7gsUqS5l+3D2hodHxIXSnna24lahd3bBzPTxWx2MZekg01y+1O3Pc52ugBlCAGhM9koE0pdkq4KR/Dscp91pVd7yq/Qz//+c8xPz+Pb3zjG1haWiq+eHLPPffgN37jN9b00svs7Cw++ugjZLNZuaksjmekGieNevAyxSfz6CqIZU4zrasQeC4Wyvb0VQoi+kXpIJJE7oQHE2avhHclvWL6m3GlPRoxZOf1p+14wAc1az4hqihomvGmpvjXivBIhWN2kFgolAkoa0249IBcjut2nT6fSCM84r8rqkXiS1QDTt9lJxcL0LRMsfRbGg/WxvGaKxfPHNUu7thUOD8VY3GRXpL1nLP2KVXVr8E477NPuLkkFgrFsrrtz6G3zlm5GL7afTaVWe8avkP33nsv7rjjDnz44Yf4+c9/DhjjGy9duoRLly7Js1dtbGwM3/72t/FXf/VXchMAoL29HefPn8ebb75ZfOHGy/GMW15tk8ahAHzaLKZH4PC0qJdQTLGsNPYFcSRHo8VxIcXxONDHt4SaVWTFEmZzl23ZdLfPuVQrPy0PBRyD4ErFsip8gTQCtv1KYHoOZcdElj1mJ/1ZqEoQvbbB3b0Iwjy/1VIQfNg6l/o6xLKOxG27IwsoQBibapS/xBucWtBsQwXik2LvrlHC6RbGRUWSSFZfISGqDYdYEx1N2sfrwZgP9muipi4WoNnG+ulDOKpXw7gjcjg/jrG4LLmqEEegyl47taDZx55HkugSl+3PQm12HxNYiXMMX/0+mxzX6/IdKvcijOjGDf3/w9He3o7GxkakUil5lpo6ePAgPB4Prl27hk8//RQ9PT343d/9XVy+fBnnz5+XZ6ctojZJo/mWWzeQKj45GWM2iiWTXngWhQJyf6cxqNoqp3gWEvpyrfogYasbH0h5hTFwADA/CxwVlp0ZdBjIbYyxgVDGCGAFPY0V9GehNvvgEcfdQP99t9SivWxSDAZlj9ksa4hvMcbQ6U2h0DZQXM+AfxaDVTyZ2mnIFALWOtoKwmfkxG27pe2BrL33NtFz2nbOS9tb9YH65vk50QIYQTr2Sgbg29Pkwl6KrfRWciWlsWbA7xQfEgi32r/zK9lm6bUtGQmj9WQGHiFW4pzLmEZJ7eKOqPT8OMbisvRxhtZ2A0CVvXYlMeIoMCGOaUQMnbZzll95zHCM4S77PBLGxLz49rQDx/Wu/js0NTWFCxcuwO/3Y2RkBH/5l3+Jf/qnf1r330i8cOECPvroI7z//vv40z/9U3z/+9/Hxx9/jGeeeWZNPZx0e+P/RnBTiyOd70LhJN9EJiK6nd19993Yt28f3nnnHVy9elVuXhf79+/Hn/zJn2DXrl3IZDJ47bXX5Floi2HSuKkxaSQiIqLaqE15moiIiIg2NfY0EhEREZEr9jQSERERkSsmjURERETkikkjEREREbli0khERERErpg0EhEREZErJo1ERERE5IpJIxERERG5YtJIRERERK6YNBIRERGRKyaNREREROSKSSMRERERuWLSSERERESumDQSERERkattTU1NN+SJq7Fz5055EhERERFtEjVLGomIiIho82J5moiIiIhcMWkkIiIiIldMGomIiIjIFZNGIiIiInLFpJGIiIiIXDFpJCIiIiJXTBqJiIiIyBWTRiIiIiJyxaSRiIiIiFwxaSQiIiIiV0waiYiIiMgVk0YiIiIicsWkkYiIiIhcMWkkIiIiIldMGomIiIjIFZNGIiIiInJVm6QxkkQun0MyYp8cHc0hn0siapsaR9qcdyjt0F6d6GgO+Xze+CvdNhFtVnGki9d+Hvl8GnF5FroNCfcGR1Ekc3mkh+TpN090NIf85O3zbYtP5pEbXc0dtjZs56tMnrCe4pNGjJiMrynfIEttksaRacxqCjwHxIlRtPsVQGlBu/gliTTCgwIWRoRpKxZFOybg9Xrh9XoxOAMEj/LLQLTpRZLI5btQOKlf+16vF96xAhpv4o2IiFZhJIxWbyvCa7r3m9weMPROqVBDBoNeL7yHYnIrrVJtkkYksLAI+ALCE1ikHS2KBk1KJqMdLVDms1jbR5hAuMdaQ2JqFprigc82DxFtOgc8ULRZTIs3nv5wjW5ERLRZRBs9wOICEnIDrUmNkkYgllWBhkart++AB8r8BE7PaUIyqfc+qll7yugTS822rmyp7OTYvR1F8mgQmEmtMRElog3vYgGaXL2wkUrXZjnKqTRlm6aXPkviEMy4Y7WVK4+apbhiScyIX+JQGrlUaB9mI8Q7Y9/ixXZhSI/TPprLiMduazd6ZkaNeSZfdSj16udA3kcn1e+3vB/SeZZjPCB9hnK8tyu7H9L3oPwxueyP7Zym0S4t53T+9GkV1ut6jkq/c9b+V/ieyucjl0SjrbWUbX7ju1vclrGfSeP77Hpc5jKO5wuOvYNlP79K5yiSRC4fgg8KgieEa1wQn8xjoE0BmkPCvsvKD3ORy/olQ+3E2FFlfNgsapY0oj8LVQjm8YAPajam9wIWk0kfPIqGwkVhOSWILpzWy0wnM9CaQ/pJH5nGrOZDQPgA9F7KCaFXIYpkbgAtc4No7eHzBNGmNxJG61ih7M0CQwFgzCxdp6AqQYSGSuMTEEXyfh/Uc2EkhDiiLzeITIMRh4yH0oKwzqxtg5LmEAJZfd7UvA+hfB69ZnwbU6G0hYo3puhoDgP+Wb185vVicMaDkJgECLFxcAb6MQeyQqzssm7AQ2nkuz3IFMv2+jHYkyUFQY+x/KE/wrTtgd6sDqmYcImlK9lvW0yHvg2PeJ41H7rkfTwRQFYYehA84ZRYVt6P+GQInhlrOxML8tKGSvszlEa+G0iZ+3KygJY2xVgwUXr+hkIIIoNUv8t64XaOksidaMFs8bNMYRaw3e/Ez9hcTj4f3nMeBJutTcpK5s8GEJLnV4LwGN/nTrfjqni+Ssnbr/p7NBJGqzcFFZr+fW8Nl/Qmxg55MTijAfMpa99t4kjnxe+IsX0jpsSyKhR/e/GBUh5qF230QJub1mPHSuLDJlC7pBExZOcVtHREAcQRaDaSw5EFFMyTPRSATy4taRmcNoPUSBgT84CnMaqXoM+p8N1v9QTIvZTR0V4EF1NMGIm2kv5OPcjPtWBA7kXq7xRuEDFki/FEjE9WgpQ1boT2ZMmIPUJCoK8DAGKIldyABPOp4vZjWRWAsN7+LFR4jPGXRjw7Z93wEj0TUJsDVoIkxMbE1Cw0aMi8YsQ/aRx5POCDNnNaeKDWj8G68QEQly9uz0o8qxs6tLL9tsd0/d+dwnmentOgeMSBRRoyJzutfehPISN1Hujc98NabwKx/jL3iAr7o59ToYI1EsbpGc38l/6ZCNuLB3xGIlF5vUDlcxR/OAjYPssYwj0Jl+9p6flAfydS8+Y/ZFXOrxlJsKnCcbmdL7vS7cufX6VztGZDAfjE9ZvbN3OV/izU4pA3HzzIIDNvXm9RtPuB2Slr2arjwyZQw6QRUAvGFyjSCE8xObSCtZWdV0nsHYi0o8V8ihNoBdU+gYi2hERPK7zeFAptA0JJyF4+E3tOYq9kACOJina0WENaDnigQO8VLJaqun3GcJsEwq2DmPUP2Etk1bhYgKYV4ByhfPAogK9bLI+F4CsmlZKRBRTKvkAYRWMDUFiQIuvFgstYbzGR1m+EYlLpbIX77cAq3xslxIr08fKlKu9H7JAXKeilScceaYHz/pQ5p6KRMCbmzYQ2jkCzvZfWeb1uKmy34vfUoYpX0UrntzgfV4X9dlT581tvzuMdVRSKD2IqCubDylAAnrlphLNGgh5pRwvM/GYN8eE2VdOk0XzySna0AEJyqCeT7Wj3Kyv4UsGecErrhHHTYC8j0VYm9ibq5TvPObNU5LX3nIxMYxYtaI9IPQUXC9A04y1L8a9Y9kog3GqsD6Ea3RhUFDSjvGbb7mreLtUTK8demLJJq65YhrPdCCtZ237HJ/PoKoglwXI9USY9GSnlvh+xQ8Y25lowUCZxLL8/zufU57EnfzEzkRgKwCf00pZfrxvn7QJu31Mx4TGVO3emlc5f6bic91s+Xxb3z289JRYK9ncwisxE2hp+EA949FjRn9V7Qg94oNgSzvWIDxtXTZNGcxxisM2eHOrjGlusctAK6L0DvehtK5SMtSkZnEpEm9tQWhpoHkeg2ezhkHtP9DZLAtNzQMvDIXuCNDKNWQTR6/iyRBxp4SagFqq9+bvR96VWPxUWy6pQ2nqFlwyMFwTdKjv9KWTQgt6jQRSEUqH8IoBlLfst90YZY8VsFAQfts53dLTXGidoU2k/okhOWtMTCwWp3VR5f9SCZhuDikgSXfKYPyORSBtj+HWV1+um9LOMIzkadfmeGr9gUhzOZYyxLLtZ/WGr+vnhelxVna+iSp/fTdCfharYz6X+XbPigp63dKGrQayaetB1v/hZr1d82LhqmzQWSwlScjgyjVkoVYyXcbCWZYloc7lYgEcqaWHMHOgeQ8p8YSSfRz4fAKQxWompWaDZZ0uQ9J4Cvcxtrdd8C1JFocEoc+bz+sD9Gv3mW6KnFanFIAbEcuNqeyn6O42XRsx1VfuCoH7zVmwP9FE0Nmi2MVui1e+3MQav+Pn1wrMo32Q1ZAoB63y3FZByeNEBFfcjgQUI07tRZh2V9yfR06q/HGGu5ygwUdJjGEN23gdfg5jYVl6vq5LPMgTPQsLle2qU5MXzEciWjlEUxA4NIiOeJ5f53Y6ruvNlKf/5VUO41lfVcRRDpzG0xdz2gH8Wg+L3xMg97FVT+VpZv/iwUW1ramq6IU/cWKySU+kbUEREtBbR0RwGPBPWDyBHksg9vIDWTX7zIxnvteSuxj2NtVe+PEFERGsSSaK3TXoBZiTMhHELio72IriKIWS0tWzcnsZIErkTQShQkfIKP8FARERrpPcqBRVALZb3aSuJjuakt7p5ryV3GzdpJCIiIqINY8OXp4mIiIjo1mPSSERERESumDQSERERkSsmjURERETkikkjEREREbli0khERERErpg0EhEREZErJo1ERERE5IpJIxERERG5YtJIRERERK6YNBIRERGRKyaNREREROSKSSMRERERuWLSSERERESumDQSERERkSsmjURERETkikkjEREREbli0khERERErpg0EhEREZErJo1ERERE5Or/A+QWwSKLC5AVAAAAAElFTkSuQmCC)"
      ],
      "metadata": {
        "id": "eStE4jUgrNRp"
      }
    },
    {
      "cell_type": "code",
      "source": [
        "inp = torch.eye(4,5, requires_grad=True)\n",
        "out = (inp+1).pow(2).t()\n",
        "out.backward(torch.ones_like(out), retain_graph=True)\n",
        "print(f\"First call\\n{inp.grad}\")\n",
        "out.backward(torch.ones_like(out), retain_graph=True)\n",
        "print(f\"Second call\\n{inp.grad}\")\n",
        "inp.grad.zero_()\n",
        "out.backward(torch.ones_like(out), retain_graph=True)\n",
        "print(f\"Call after zeroing gradiends\\n{inp.grad}\")"
      ],
      "metadata": {
        "colab": {
          "base_uri": "https://localhost:8080/"
        },
        "id": "6ml6Oh5ZpW4t",
        "outputId": "ff5f0b59-c88a-4444-9e12-bcadc7093429"
      },
      "execution_count": 7,
      "outputs": [
        {
          "output_type": "stream",
          "name": "stdout",
          "text": [
            "First call\n",
            "tensor([[4., 2., 2., 2., 2.],\n",
            "        [2., 4., 2., 2., 2.],\n",
            "        [2., 2., 4., 2., 2.],\n",
            "        [2., 2., 2., 4., 2.]])\n",
            "Second call\n",
            "tensor([[8., 4., 4., 4., 4.],\n",
            "        [4., 8., 4., 4., 4.],\n",
            "        [4., 4., 8., 4., 4.],\n",
            "        [4., 4., 4., 8., 4.]])\n",
            "Call after zeroing gradiends\n",
            "tensor([[4., 2., 2., 2., 2.],\n",
            "        [2., 4., 2., 2., 2.],\n",
            "        [2., 2., 4., 2., 2.],\n",
            "        [2., 2., 2., 4., 2.]])\n"
          ]
        }
      ]
    },
    {
      "cell_type": "markdown",
      "source": [
        "Notice that when we call backward for the second time with the same argument, the value of the gradient is different. This happens because when doing backward propagation, PyTorch accumulates the gradients, i.e. the value of computed gradients is added to the grad property of all leaf nodes of computational graph. If you want to compute the proper gradients, you need to zero out the grad property before. In real-life training an optimizer helps us to do this.\n",
        "\n",
        "Note\n",
        "\n",
        "Previously we were calling backward() function without parameters. This is essentially equivalent to calling backward(torch.tensor(1.0)), which is a useful way to compute the gradients in case of a scalar-valued function, such as loss during neural network training."
      ],
      "metadata": {
        "id": "Iumo12HKrz2j"
      }
    }
  ]
}