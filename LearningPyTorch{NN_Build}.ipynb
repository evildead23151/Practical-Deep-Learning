{
  "nbformat": 4,
  "nbformat_minor": 0,
  "metadata": {
    "colab": {
      "provenance": [],
      "authorship_tag": "ABX9TyONfeMy0WRL3xRYjH4fiOBY",
      "include_colab_link": true
    },
    "kernelspec": {
      "name": "python3",
      "display_name": "Python 3"
    },
    "language_info": {
      "name": "python"
    }
  },
  "cells": [
    {
      "cell_type": "markdown",
      "metadata": {
        "id": "view-in-github",
        "colab_type": "text"
      },
      "source": [
        "<a href=\"https://colab.research.google.com/github/evildead23151/Practical-Deep-Learning/blob/main/LearningPyTorch%7BNN_Build%7D.ipynb\" target=\"_parent\"><img src=\"https://colab.research.google.com/assets/colab-badge.svg\" alt=\"Open In Colab\"/></a>"
      ]
    },
    {
      "cell_type": "markdown",
      "source": [
        "#Build the Neural Network"
      ],
      "metadata": {
        "id": "wI2FC-lHp1_5"
      }
    },
    {
      "cell_type": "markdown",
      "source": [
        "Neural networks comprise of layers/modules that perform operations on data. The torch.nn namespace provides all the building blocks you need to build your own neural network. Every module in PyTorch subclasses the nn.Module. A neural network is a module itself that consists of other modules (layers). This nested structure allows for building and managing complex architectures easily."
      ],
      "metadata": {
        "id": "uVnO8yGTp4ah"
      }
    },
    {
      "cell_type": "code",
      "execution_count": 4,
      "metadata": {
        "id": "Koviw2aWplDU"
      },
      "outputs": [],
      "source": [
        "import os\n",
        "import torch\n",
        "from torch import nn\n",
        "from torch.utils.data import DataLoader\n",
        "from torchvision import datasets, transforms"
      ]
    },
    {
      "cell_type": "markdown",
      "source": [
        "5.1. Get Device for Training"
      ],
      "metadata": {
        "id": "HWjb3tFTqJha"
      }
    },
    {
      "cell_type": "code",
      "source": [
        "device = torch.accerlerator.current_accerlerator().type if torch.cuda.is_available() else \"cpu\"\n",
        "print(f\"Using {device} device\")"
      ],
      "metadata": {
        "colab": {
          "base_uri": "https://localhost:8080/"
        },
        "id": "jtgj7Cv2qJUS",
        "outputId": "e3f2dbf3-12ae-4a04-aef6-aa69a971566f"
      },
      "execution_count": 5,
      "outputs": [
        {
          "output_type": "stream",
          "name": "stdout",
          "text": [
            "Using cpu device\n"
          ]
        }
      ]
    },
    {
      "cell_type": "markdown",
      "source": [
        "5.2. Definge the Class"
      ],
      "metadata": {
        "id": "3B4KaAFcqj7u"
      }
    },
    {
      "cell_type": "code",
      "source": [
        "class NeuralNetwork(nn.Module):\n",
        "  def __init__(self):\n",
        "    super().__init__()\n",
        "    self.flatten = nn.Flatten()\n",
        "    self.linear_relu_stack = nn.Sequential(\n",
        "        nn.Linear(28*28, 512),\n",
        "        nn.ReLU(),\n",
        "        nn.Linear(512, 512),\n",
        "        nn.ReLU(),\n",
        "        nn.Linear(512, 10),\n",
        "    )\n",
        "\n",
        "  def forward(self,x):\n",
        "    x = self.flatten(x)\n",
        "    logits = self.linear_relu_stack(x)\n",
        "    return logits\n",
        "\n",
        "model = NeuralNetwork().to(device)\n",
        "print(model)"
      ],
      "metadata": {
        "colab": {
          "base_uri": "https://localhost:8080/"
        },
        "id": "Bw63QWw6qU6i",
        "outputId": "534d0cbb-6c56-4708-a55d-262d89bae425"
      },
      "execution_count": 7,
      "outputs": [
        {
          "output_type": "stream",
          "name": "stdout",
          "text": [
            "NeuralNetwork(\n",
            "  (flatten): Flatten(start_dim=1, end_dim=-1)\n",
            "  (linear_relu_stack): Sequential(\n",
            "    (0): Linear(in_features=784, out_features=512, bias=True)\n",
            "    (1): ReLU()\n",
            "    (2): Linear(in_features=512, out_features=512, bias=True)\n",
            "    (3): ReLU()\n",
            "    (4): Linear(in_features=512, out_features=10, bias=True)\n",
            "  )\n",
            ")\n"
          ]
        }
      ]
    },
    {
      "cell_type": "code",
      "source": [
        "X = torch.rand(1,28,28, device=device)\n",
        "logits = model(X)\n",
        "pred_probab = nn.Softmax(dim=1)(logits)\n",
        "y_pred = pred_probab.argmax(1)\n",
        "print(f\"Predicted Class: {y_pred}\")"
      ],
      "metadata": {
        "colab": {
          "base_uri": "https://localhost:8080/"
        },
        "id": "E1FL5nhNsJr4",
        "outputId": "dd89446e-e3b2-43e9-e419-1aadc7145687"
      },
      "execution_count": 9,
      "outputs": [
        {
          "output_type": "stream",
          "name": "stdout",
          "text": [
            "Predicted Class: tensor([2])\n"
          ]
        }
      ]
    },
    {
      "cell_type": "markdown",
      "source": [
        "5.3. Model Layers"
      ],
      "metadata": {
        "id": "vyx589W3rbWb"
      }
    },
    {
      "cell_type": "code",
      "source": [
        "input_image = torch.rand(3, 28, 28)\n",
        "print(input_image.size())"
      ],
      "metadata": {
        "colab": {
          "base_uri": "https://localhost:8080/"
        },
        "id": "8tgQfp6Yskih",
        "outputId": "83c8b45a-7c49-4b94-88f8-39cfe78cdc39"
      },
      "execution_count": 10,
      "outputs": [
        {
          "output_type": "stream",
          "name": "stdout",
          "text": [
            "torch.Size([3, 28, 28])\n"
          ]
        }
      ]
    },
    {
      "cell_type": "markdown",
      "source": [
        "5.4. nn.Flatten"
      ],
      "metadata": {
        "id": "4W1Nh1B0s6Dt"
      }
    },
    {
      "cell_type": "code",
      "source": [
        "flatten = nn.Flatten()\n",
        "flat_image = flatten(input_image)\n",
        "print(flat_image.size())"
      ],
      "metadata": {
        "colab": {
          "base_uri": "https://localhost:8080/"
        },
        "id": "tPX9L0ctsq81",
        "outputId": "db2fd1cd-68be-4767-8886-27fe885f3c8d"
      },
      "execution_count": 11,
      "outputs": [
        {
          "output_type": "stream",
          "name": "stdout",
          "text": [
            "torch.Size([3, 784])\n"
          ]
        }
      ]
    },
    {
      "cell_type": "markdown",
      "source": [
        "5.5. nn.Linear"
      ],
      "metadata": {
        "id": "QDfEd1I7s9PF"
      }
    },
    {
      "cell_type": "code",
      "source": [
        "layer1 = nn.Linear(in_features=28*28, out_features=20)\n",
        "hidden1=layer1(flat_image)\n",
        "print(hidden1.size())"
      ],
      "metadata": {
        "colab": {
          "base_uri": "https://localhost:8080/"
        },
        "id": "7ZXkk1Rvs_43",
        "outputId": "7ca0828f-7d51-4817-874b-4b76a388c351"
      },
      "execution_count": 12,
      "outputs": [
        {
          "output_type": "stream",
          "name": "stdout",
          "text": [
            "torch.Size([3, 20])\n"
          ]
        }
      ]
    },
    {
      "cell_type": "markdown",
      "source": [
        "5.6. nn.ReLU"
      ],
      "metadata": {
        "id": "V0yjAxGZtNft"
      }
    },
    {
      "cell_type": "code",
      "source": [
        "print(f\"Before ReLU: {hidden1}\\n\\n\")\n",
        "hidden1 = nn.ReLU()(hidden1)\n",
        "print(f\"After ReLU: {hidden1}\")"
      ],
      "metadata": {
        "colab": {
          "base_uri": "https://localhost:8080/"
        },
        "id": "XqHIZ4DFtPw5",
        "outputId": "5dafcb06-95c2-4118-d6b1-9e961714a932"
      },
      "execution_count": 13,
      "outputs": [
        {
          "output_type": "stream",
          "name": "stdout",
          "text": [
            "Before ReLU: tensor([[-0.4147, -0.7034, -0.2131, -0.0066, -0.0086,  0.1214, -0.4200, -0.1284,\n",
            "         -0.1601,  0.2332, -0.4922, -0.2201,  0.0462,  0.4296,  0.1597, -0.1793,\n",
            "         -0.5661, -0.1787,  0.0832, -0.3246],\n",
            "        [-0.3184, -0.3711, -0.4038,  0.2533, -0.3295,  0.3653, -0.7163, -0.6079,\n",
            "         -0.0710,  0.3408, -0.5957, -0.6852,  0.1471,  0.8038,  0.3663, -0.0997,\n",
            "         -0.5336,  0.0816,  0.2432, -0.0096],\n",
            "        [ 0.0585, -0.4223, -0.3330,  0.5080, -0.2559,  0.1290, -0.3220, -0.3001,\n",
            "         -0.1412,  0.0546, -0.7727, -0.2240,  0.2296,  0.7701,  0.1627,  0.1211,\n",
            "         -0.9031, -0.0824,  0.2182,  0.0054]], grad_fn=<AddmmBackward0>)\n",
            "\n",
            "\n",
            "After ReLU: tensor([[0.0000, 0.0000, 0.0000, 0.0000, 0.0000, 0.1214, 0.0000, 0.0000, 0.0000,\n",
            "         0.2332, 0.0000, 0.0000, 0.0462, 0.4296, 0.1597, 0.0000, 0.0000, 0.0000,\n",
            "         0.0832, 0.0000],\n",
            "        [0.0000, 0.0000, 0.0000, 0.2533, 0.0000, 0.3653, 0.0000, 0.0000, 0.0000,\n",
            "         0.3408, 0.0000, 0.0000, 0.1471, 0.8038, 0.3663, 0.0000, 0.0000, 0.0816,\n",
            "         0.2432, 0.0000],\n",
            "        [0.0585, 0.0000, 0.0000, 0.5080, 0.0000, 0.1290, 0.0000, 0.0000, 0.0000,\n",
            "         0.0546, 0.0000, 0.0000, 0.2296, 0.7701, 0.1627, 0.1211, 0.0000, 0.0000,\n",
            "         0.2182, 0.0054]], grad_fn=<ReluBackward0>)\n"
          ]
        }
      ]
    },
    {
      "cell_type": "markdown",
      "source": [
        "5.7. nn.Sequential"
      ],
      "metadata": {
        "id": "fY8esYjGtgP5"
      }
    },
    {
      "cell_type": "code",
      "source": [
        "seq_modules = nn.Sequential(\n",
        "    flatten,\n",
        "    layer1,\n",
        "    nn.ReLU(),\n",
        "    nn.Linear(20, 10)\n",
        ")\n",
        "input_image = torch.rand(3,28,28)\n",
        "logits = seq_modules(input_image)"
      ],
      "metadata": {
        "id": "M42EmtdPtk6a"
      },
      "execution_count": null,
      "outputs": []
    },
    {
      "cell_type": "markdown",
      "source": [
        "5.8. nn.Softmax"
      ],
      "metadata": {
        "id": "JbmKlkGrtmJS"
      }
    },
    {
      "cell_type": "markdown",
      "source": [
        "The last linear layer of the neural network returns logits - raw values in [-infty, infty] - which are passed to the nn.Softmax module. The logits are scaled to values [0, 1] representing the model’s predicted probabilities for each class. dim parameter indicates the dimension along which the values must sum to 1.\n",
        "\n"
      ],
      "metadata": {
        "id": "DfrGEXYrtxcd"
      }
    },
    {
      "cell_type": "code",
      "source": [
        "softmax = nn.Softmax(dim=1)\n",
        "pred_probab = softmax(logits)"
      ],
      "metadata": {
        "id": "SSFnVlbatp28"
      },
      "execution_count": null,
      "outputs": []
    },
    {
      "cell_type": "markdown",
      "source": [
        "5.9. Model parameters"
      ],
      "metadata": {
        "id": "hE65_UTFz6Yw"
      }
    },
    {
      "cell_type": "code",
      "source": [
        "print(f\"Model structure: {model}\\n\\n\")\n",
        "\n",
        "for name, param in model.named_parameters():\n",
        "    print(f\"Layer: {name} | Size: {param.size()} | Values : {param[:2]} \\n\")"
      ],
      "metadata": {
        "id": "UXGJ1Pxvt0Aj"
      },
      "execution_count": null,
      "outputs": []
    }
  ]
}