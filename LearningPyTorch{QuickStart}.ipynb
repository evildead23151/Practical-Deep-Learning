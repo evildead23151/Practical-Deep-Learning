{
  "nbformat": 4,
  "nbformat_minor": 0,
  "metadata": {
    "colab": {
      "provenance": [],
      "authorship_tag": "ABX9TyMEMG6O8/fpo4uh23IoPycI",
      "include_colab_link": true
    },
    "kernelspec": {
      "name": "python3",
      "display_name": "Python 3"
    },
    "language_info": {
      "name": "python"
    }
  },
  "cells": [
    {
      "cell_type": "markdown",
      "metadata": {
        "id": "view-in-github",
        "colab_type": "text"
      },
      "source": [
        "<a href=\"https://colab.research.google.com/github/evildead23151/Practical-Deep-Learning/blob/main/LearningPyTorch%7BQuickStart%7D.ipynb\" target=\"_parent\"><img src=\"https://colab.research.google.com/assets/colab-badge.svg\" alt=\"Open In Colab\"/></a>"
      ]
    },
    {
      "cell_type": "code",
      "execution_count": 2,
      "metadata": {
        "id": "eNHQ1CyjpPhA"
      },
      "outputs": [],
      "source": [
        "import torch\n",
        "from torch import nn\n",
        "from torch.utils.data import DataLoader\n",
        "from torchvision import datasets\n",
        "from torchvision.transforms import ToTensor"
      ]
    },
    {
      "cell_type": "markdown",
      "source": [
        "We are going to learn pyTorch by a sample set of data FasionMNIST"
      ],
      "metadata": {
        "id": "bPpLM829qpnv"
      }
    },
    {
      "cell_type": "markdown",
      "source": [
        "1. DATA"
      ],
      "metadata": {
        "id": "egD-WisF256C"
      }
    },
    {
      "cell_type": "code",
      "source": [
        "#Getting data from datasets\n",
        "training_data = datasets.FashionMNIST(\n",
        "    root=\"data\",\n",
        "    train=True,\n",
        "    download=True,\n",
        "    transform=ToTensor(),\n",
        ")\n",
        "#Getting data for testing later\n",
        "test_data = datasets.FashionMNIST(\n",
        "    root=\"data\",\n",
        "    train=False,\n",
        "    download=True,\n",
        "    transform=ToTensor(),\n",
        ")"
      ],
      "metadata": {
        "colab": {
          "base_uri": "https://localhost:8080/"
        },
        "id": "SyOLPuhEqo2P",
        "outputId": "72f71bf0-deae-48cc-d730-39017aaf71f0"
      },
      "execution_count": 4,
      "outputs": [
        {
          "output_type": "stream",
          "name": "stderr",
          "text": [
            "100%|██████████| 26.4M/26.4M [00:02<00:00, 10.9MB/s]\n",
            "100%|██████████| 29.5k/29.5k [00:00<00:00, 208kB/s]\n",
            "100%|██████████| 4.42M/4.42M [00:01<00:00, 3.91MB/s]\n",
            "100%|██████████| 5.15k/5.15k [00:00<00:00, 9.34MB/s]\n"
          ]
        }
      ]
    },
    {
      "cell_type": "code",
      "source": [
        "batch_size = 64\n",
        "train_dataloader = DataLoader(training_data, batch_size=batch_size)\n",
        "test_dataloader = DataLoader(test_data, batch_size=batch_size)\n",
        "for X, y in test_dataloader:\n",
        "  print(f\"shape of X [N, C, H, W]:{X.shape}\")\n",
        "  print(f\"shape of y:{y.shape}{y.dtype}\")"
      ],
      "metadata": {
        "colab": {
          "base_uri": "https://localhost:8080/"
        },
        "id": "KSmwuJStq1sh",
        "outputId": "2371dd0e-c237-4516-eb4a-2b9b8c4c800b"
      },
      "execution_count": 5,
      "outputs": [
        {
          "output_type": "stream",
          "name": "stdout",
          "text": [
            "shape of X [N, C, H, W]:torch.Size([64, 1, 28, 28])\n",
            "shape of y:torch.Size([64])torch.int64\n",
            "shape of X [N, C, H, W]:torch.Size([64, 1, 28, 28])\n",
            "shape of y:torch.Size([64])torch.int64\n",
            "shape of X [N, C, H, W]:torch.Size([64, 1, 28, 28])\n",
            "shape of y:torch.Size([64])torch.int64\n",
            "shape of X [N, C, H, W]:torch.Size([64, 1, 28, 28])\n",
            "shape of y:torch.Size([64])torch.int64\n",
            "shape of X [N, C, H, W]:torch.Size([64, 1, 28, 28])\n",
            "shape of y:torch.Size([64])torch.int64\n",
            "shape of X [N, C, H, W]:torch.Size([64, 1, 28, 28])\n",
            "shape of y:torch.Size([64])torch.int64\n",
            "shape of X [N, C, H, W]:torch.Size([64, 1, 28, 28])\n",
            "shape of y:torch.Size([64])torch.int64\n",
            "shape of X [N, C, H, W]:torch.Size([64, 1, 28, 28])\n",
            "shape of y:torch.Size([64])torch.int64\n",
            "shape of X [N, C, H, W]:torch.Size([64, 1, 28, 28])\n",
            "shape of y:torch.Size([64])torch.int64\n",
            "shape of X [N, C, H, W]:torch.Size([64, 1, 28, 28])\n",
            "shape of y:torch.Size([64])torch.int64\n",
            "shape of X [N, C, H, W]:torch.Size([64, 1, 28, 28])\n",
            "shape of y:torch.Size([64])torch.int64\n",
            "shape of X [N, C, H, W]:torch.Size([64, 1, 28, 28])\n",
            "shape of y:torch.Size([64])torch.int64\n",
            "shape of X [N, C, H, W]:torch.Size([64, 1, 28, 28])\n",
            "shape of y:torch.Size([64])torch.int64\n",
            "shape of X [N, C, H, W]:torch.Size([64, 1, 28, 28])\n",
            "shape of y:torch.Size([64])torch.int64\n",
            "shape of X [N, C, H, W]:torch.Size([64, 1, 28, 28])\n",
            "shape of y:torch.Size([64])torch.int64\n",
            "shape of X [N, C, H, W]:torch.Size([64, 1, 28, 28])\n",
            "shape of y:torch.Size([64])torch.int64\n",
            "shape of X [N, C, H, W]:torch.Size([64, 1, 28, 28])\n",
            "shape of y:torch.Size([64])torch.int64\n",
            "shape of X [N, C, H, W]:torch.Size([64, 1, 28, 28])\n",
            "shape of y:torch.Size([64])torch.int64\n",
            "shape of X [N, C, H, W]:torch.Size([64, 1, 28, 28])\n",
            "shape of y:torch.Size([64])torch.int64\n",
            "shape of X [N, C, H, W]:torch.Size([64, 1, 28, 28])\n",
            "shape of y:torch.Size([64])torch.int64\n",
            "shape of X [N, C, H, W]:torch.Size([64, 1, 28, 28])\n",
            "shape of y:torch.Size([64])torch.int64\n",
            "shape of X [N, C, H, W]:torch.Size([64, 1, 28, 28])\n",
            "shape of y:torch.Size([64])torch.int64\n",
            "shape of X [N, C, H, W]:torch.Size([64, 1, 28, 28])\n",
            "shape of y:torch.Size([64])torch.int64\n",
            "shape of X [N, C, H, W]:torch.Size([64, 1, 28, 28])\n",
            "shape of y:torch.Size([64])torch.int64\n",
            "shape of X [N, C, H, W]:torch.Size([64, 1, 28, 28])\n",
            "shape of y:torch.Size([64])torch.int64\n",
            "shape of X [N, C, H, W]:torch.Size([64, 1, 28, 28])\n",
            "shape of y:torch.Size([64])torch.int64\n",
            "shape of X [N, C, H, W]:torch.Size([64, 1, 28, 28])\n",
            "shape of y:torch.Size([64])torch.int64\n",
            "shape of X [N, C, H, W]:torch.Size([64, 1, 28, 28])\n",
            "shape of y:torch.Size([64])torch.int64\n",
            "shape of X [N, C, H, W]:torch.Size([64, 1, 28, 28])\n",
            "shape of y:torch.Size([64])torch.int64\n",
            "shape of X [N, C, H, W]:torch.Size([64, 1, 28, 28])\n",
            "shape of y:torch.Size([64])torch.int64\n",
            "shape of X [N, C, H, W]:torch.Size([64, 1, 28, 28])\n",
            "shape of y:torch.Size([64])torch.int64\n",
            "shape of X [N, C, H, W]:torch.Size([64, 1, 28, 28])\n",
            "shape of y:torch.Size([64])torch.int64\n",
            "shape of X [N, C, H, W]:torch.Size([64, 1, 28, 28])\n",
            "shape of y:torch.Size([64])torch.int64\n",
            "shape of X [N, C, H, W]:torch.Size([64, 1, 28, 28])\n",
            "shape of y:torch.Size([64])torch.int64\n",
            "shape of X [N, C, H, W]:torch.Size([64, 1, 28, 28])\n",
            "shape of y:torch.Size([64])torch.int64\n",
            "shape of X [N, C, H, W]:torch.Size([64, 1, 28, 28])\n",
            "shape of y:torch.Size([64])torch.int64\n",
            "shape of X [N, C, H, W]:torch.Size([64, 1, 28, 28])\n",
            "shape of y:torch.Size([64])torch.int64\n",
            "shape of X [N, C, H, W]:torch.Size([64, 1, 28, 28])\n",
            "shape of y:torch.Size([64])torch.int64\n",
            "shape of X [N, C, H, W]:torch.Size([64, 1, 28, 28])\n",
            "shape of y:torch.Size([64])torch.int64\n",
            "shape of X [N, C, H, W]:torch.Size([64, 1, 28, 28])\n",
            "shape of y:torch.Size([64])torch.int64\n",
            "shape of X [N, C, H, W]:torch.Size([64, 1, 28, 28])\n",
            "shape of y:torch.Size([64])torch.int64\n",
            "shape of X [N, C, H, W]:torch.Size([64, 1, 28, 28])\n",
            "shape of y:torch.Size([64])torch.int64\n",
            "shape of X [N, C, H, W]:torch.Size([64, 1, 28, 28])\n",
            "shape of y:torch.Size([64])torch.int64\n",
            "shape of X [N, C, H, W]:torch.Size([64, 1, 28, 28])\n",
            "shape of y:torch.Size([64])torch.int64\n",
            "shape of X [N, C, H, W]:torch.Size([64, 1, 28, 28])\n",
            "shape of y:torch.Size([64])torch.int64\n",
            "shape of X [N, C, H, W]:torch.Size([64, 1, 28, 28])\n",
            "shape of y:torch.Size([64])torch.int64\n",
            "shape of X [N, C, H, W]:torch.Size([64, 1, 28, 28])\n",
            "shape of y:torch.Size([64])torch.int64\n",
            "shape of X [N, C, H, W]:torch.Size([64, 1, 28, 28])\n",
            "shape of y:torch.Size([64])torch.int64\n",
            "shape of X [N, C, H, W]:torch.Size([64, 1, 28, 28])\n",
            "shape of y:torch.Size([64])torch.int64\n",
            "shape of X [N, C, H, W]:torch.Size([64, 1, 28, 28])\n",
            "shape of y:torch.Size([64])torch.int64\n",
            "shape of X [N, C, H, W]:torch.Size([64, 1, 28, 28])\n",
            "shape of y:torch.Size([64])torch.int64\n",
            "shape of X [N, C, H, W]:torch.Size([64, 1, 28, 28])\n",
            "shape of y:torch.Size([64])torch.int64\n",
            "shape of X [N, C, H, W]:torch.Size([64, 1, 28, 28])\n",
            "shape of y:torch.Size([64])torch.int64\n",
            "shape of X [N, C, H, W]:torch.Size([64, 1, 28, 28])\n",
            "shape of y:torch.Size([64])torch.int64\n",
            "shape of X [N, C, H, W]:torch.Size([64, 1, 28, 28])\n",
            "shape of y:torch.Size([64])torch.int64\n",
            "shape of X [N, C, H, W]:torch.Size([64, 1, 28, 28])\n",
            "shape of y:torch.Size([64])torch.int64\n",
            "shape of X [N, C, H, W]:torch.Size([64, 1, 28, 28])\n",
            "shape of y:torch.Size([64])torch.int64\n",
            "shape of X [N, C, H, W]:torch.Size([64, 1, 28, 28])\n",
            "shape of y:torch.Size([64])torch.int64\n",
            "shape of X [N, C, H, W]:torch.Size([64, 1, 28, 28])\n",
            "shape of y:torch.Size([64])torch.int64\n",
            "shape of X [N, C, H, W]:torch.Size([64, 1, 28, 28])\n",
            "shape of y:torch.Size([64])torch.int64\n",
            "shape of X [N, C, H, W]:torch.Size([64, 1, 28, 28])\n",
            "shape of y:torch.Size([64])torch.int64\n",
            "shape of X [N, C, H, W]:torch.Size([64, 1, 28, 28])\n",
            "shape of y:torch.Size([64])torch.int64\n",
            "shape of X [N, C, H, W]:torch.Size([64, 1, 28, 28])\n",
            "shape of y:torch.Size([64])torch.int64\n",
            "shape of X [N, C, H, W]:torch.Size([64, 1, 28, 28])\n",
            "shape of y:torch.Size([64])torch.int64\n",
            "shape of X [N, C, H, W]:torch.Size([64, 1, 28, 28])\n",
            "shape of y:torch.Size([64])torch.int64\n",
            "shape of X [N, C, H, W]:torch.Size([64, 1, 28, 28])\n",
            "shape of y:torch.Size([64])torch.int64\n",
            "shape of X [N, C, H, W]:torch.Size([64, 1, 28, 28])\n",
            "shape of y:torch.Size([64])torch.int64\n",
            "shape of X [N, C, H, W]:torch.Size([64, 1, 28, 28])\n",
            "shape of y:torch.Size([64])torch.int64\n",
            "shape of X [N, C, H, W]:torch.Size([64, 1, 28, 28])\n",
            "shape of y:torch.Size([64])torch.int64\n",
            "shape of X [N, C, H, W]:torch.Size([64, 1, 28, 28])\n",
            "shape of y:torch.Size([64])torch.int64\n",
            "shape of X [N, C, H, W]:torch.Size([64, 1, 28, 28])\n",
            "shape of y:torch.Size([64])torch.int64\n",
            "shape of X [N, C, H, W]:torch.Size([64, 1, 28, 28])\n",
            "shape of y:torch.Size([64])torch.int64\n",
            "shape of X [N, C, H, W]:torch.Size([64, 1, 28, 28])\n",
            "shape of y:torch.Size([64])torch.int64\n",
            "shape of X [N, C, H, W]:torch.Size([64, 1, 28, 28])\n",
            "shape of y:torch.Size([64])torch.int64\n",
            "shape of X [N, C, H, W]:torch.Size([64, 1, 28, 28])\n",
            "shape of y:torch.Size([64])torch.int64\n",
            "shape of X [N, C, H, W]:torch.Size([64, 1, 28, 28])\n",
            "shape of y:torch.Size([64])torch.int64\n",
            "shape of X [N, C, H, W]:torch.Size([64, 1, 28, 28])\n",
            "shape of y:torch.Size([64])torch.int64\n",
            "shape of X [N, C, H, W]:torch.Size([64, 1, 28, 28])\n",
            "shape of y:torch.Size([64])torch.int64\n",
            "shape of X [N, C, H, W]:torch.Size([64, 1, 28, 28])\n",
            "shape of y:torch.Size([64])torch.int64\n",
            "shape of X [N, C, H, W]:torch.Size([64, 1, 28, 28])\n",
            "shape of y:torch.Size([64])torch.int64\n",
            "shape of X [N, C, H, W]:torch.Size([64, 1, 28, 28])\n",
            "shape of y:torch.Size([64])torch.int64\n",
            "shape of X [N, C, H, W]:torch.Size([64, 1, 28, 28])\n",
            "shape of y:torch.Size([64])torch.int64\n",
            "shape of X [N, C, H, W]:torch.Size([64, 1, 28, 28])\n",
            "shape of y:torch.Size([64])torch.int64\n",
            "shape of X [N, C, H, W]:torch.Size([64, 1, 28, 28])\n",
            "shape of y:torch.Size([64])torch.int64\n",
            "shape of X [N, C, H, W]:torch.Size([64, 1, 28, 28])\n",
            "shape of y:torch.Size([64])torch.int64\n",
            "shape of X [N, C, H, W]:torch.Size([64, 1, 28, 28])\n",
            "shape of y:torch.Size([64])torch.int64\n",
            "shape of X [N, C, H, W]:torch.Size([64, 1, 28, 28])\n",
            "shape of y:torch.Size([64])torch.int64\n",
            "shape of X [N, C, H, W]:torch.Size([64, 1, 28, 28])\n",
            "shape of y:torch.Size([64])torch.int64\n",
            "shape of X [N, C, H, W]:torch.Size([64, 1, 28, 28])\n",
            "shape of y:torch.Size([64])torch.int64\n",
            "shape of X [N, C, H, W]:torch.Size([64, 1, 28, 28])\n",
            "shape of y:torch.Size([64])torch.int64\n",
            "shape of X [N, C, H, W]:torch.Size([64, 1, 28, 28])\n",
            "shape of y:torch.Size([64])torch.int64\n",
            "shape of X [N, C, H, W]:torch.Size([64, 1, 28, 28])\n",
            "shape of y:torch.Size([64])torch.int64\n",
            "shape of X [N, C, H, W]:torch.Size([64, 1, 28, 28])\n",
            "shape of y:torch.Size([64])torch.int64\n",
            "shape of X [N, C, H, W]:torch.Size([64, 1, 28, 28])\n",
            "shape of y:torch.Size([64])torch.int64\n",
            "shape of X [N, C, H, W]:torch.Size([64, 1, 28, 28])\n",
            "shape of y:torch.Size([64])torch.int64\n",
            "shape of X [N, C, H, W]:torch.Size([64, 1, 28, 28])\n",
            "shape of y:torch.Size([64])torch.int64\n",
            "shape of X [N, C, H, W]:torch.Size([64, 1, 28, 28])\n",
            "shape of y:torch.Size([64])torch.int64\n",
            "shape of X [N, C, H, W]:torch.Size([64, 1, 28, 28])\n",
            "shape of y:torch.Size([64])torch.int64\n",
            "shape of X [N, C, H, W]:torch.Size([64, 1, 28, 28])\n",
            "shape of y:torch.Size([64])torch.int64\n",
            "shape of X [N, C, H, W]:torch.Size([64, 1, 28, 28])\n",
            "shape of y:torch.Size([64])torch.int64\n",
            "shape of X [N, C, H, W]:torch.Size([64, 1, 28, 28])\n",
            "shape of y:torch.Size([64])torch.int64\n",
            "shape of X [N, C, H, W]:torch.Size([64, 1, 28, 28])\n",
            "shape of y:torch.Size([64])torch.int64\n",
            "shape of X [N, C, H, W]:torch.Size([64, 1, 28, 28])\n",
            "shape of y:torch.Size([64])torch.int64\n",
            "shape of X [N, C, H, W]:torch.Size([64, 1, 28, 28])\n",
            "shape of y:torch.Size([64])torch.int64\n",
            "shape of X [N, C, H, W]:torch.Size([64, 1, 28, 28])\n",
            "shape of y:torch.Size([64])torch.int64\n",
            "shape of X [N, C, H, W]:torch.Size([64, 1, 28, 28])\n",
            "shape of y:torch.Size([64])torch.int64\n",
            "shape of X [N, C, H, W]:torch.Size([64, 1, 28, 28])\n",
            "shape of y:torch.Size([64])torch.int64\n",
            "shape of X [N, C, H, W]:torch.Size([64, 1, 28, 28])\n",
            "shape of y:torch.Size([64])torch.int64\n",
            "shape of X [N, C, H, W]:torch.Size([64, 1, 28, 28])\n",
            "shape of y:torch.Size([64])torch.int64\n",
            "shape of X [N, C, H, W]:torch.Size([64, 1, 28, 28])\n",
            "shape of y:torch.Size([64])torch.int64\n",
            "shape of X [N, C, H, W]:torch.Size([64, 1, 28, 28])\n",
            "shape of y:torch.Size([64])torch.int64\n",
            "shape of X [N, C, H, W]:torch.Size([64, 1, 28, 28])\n",
            "shape of y:torch.Size([64])torch.int64\n",
            "shape of X [N, C, H, W]:torch.Size([64, 1, 28, 28])\n",
            "shape of y:torch.Size([64])torch.int64\n",
            "shape of X [N, C, H, W]:torch.Size([64, 1, 28, 28])\n",
            "shape of y:torch.Size([64])torch.int64\n",
            "shape of X [N, C, H, W]:torch.Size([64, 1, 28, 28])\n",
            "shape of y:torch.Size([64])torch.int64\n",
            "shape of X [N, C, H, W]:torch.Size([64, 1, 28, 28])\n",
            "shape of y:torch.Size([64])torch.int64\n",
            "shape of X [N, C, H, W]:torch.Size([64, 1, 28, 28])\n",
            "shape of y:torch.Size([64])torch.int64\n",
            "shape of X [N, C, H, W]:torch.Size([64, 1, 28, 28])\n",
            "shape of y:torch.Size([64])torch.int64\n",
            "shape of X [N, C, H, W]:torch.Size([64, 1, 28, 28])\n",
            "shape of y:torch.Size([64])torch.int64\n",
            "shape of X [N, C, H, W]:torch.Size([64, 1, 28, 28])\n",
            "shape of y:torch.Size([64])torch.int64\n",
            "shape of X [N, C, H, W]:torch.Size([64, 1, 28, 28])\n",
            "shape of y:torch.Size([64])torch.int64\n",
            "shape of X [N, C, H, W]:torch.Size([64, 1, 28, 28])\n",
            "shape of y:torch.Size([64])torch.int64\n",
            "shape of X [N, C, H, W]:torch.Size([64, 1, 28, 28])\n",
            "shape of y:torch.Size([64])torch.int64\n",
            "shape of X [N, C, H, W]:torch.Size([64, 1, 28, 28])\n",
            "shape of y:torch.Size([64])torch.int64\n",
            "shape of X [N, C, H, W]:torch.Size([64, 1, 28, 28])\n",
            "shape of y:torch.Size([64])torch.int64\n",
            "shape of X [N, C, H, W]:torch.Size([64, 1, 28, 28])\n",
            "shape of y:torch.Size([64])torch.int64\n",
            "shape of X [N, C, H, W]:torch.Size([64, 1, 28, 28])\n",
            "shape of y:torch.Size([64])torch.int64\n",
            "shape of X [N, C, H, W]:torch.Size([64, 1, 28, 28])\n",
            "shape of y:torch.Size([64])torch.int64\n",
            "shape of X [N, C, H, W]:torch.Size([64, 1, 28, 28])\n",
            "shape of y:torch.Size([64])torch.int64\n",
            "shape of X [N, C, H, W]:torch.Size([64, 1, 28, 28])\n",
            "shape of y:torch.Size([64])torch.int64\n",
            "shape of X [N, C, H, W]:torch.Size([64, 1, 28, 28])\n",
            "shape of y:torch.Size([64])torch.int64\n",
            "shape of X [N, C, H, W]:torch.Size([64, 1, 28, 28])\n",
            "shape of y:torch.Size([64])torch.int64\n",
            "shape of X [N, C, H, W]:torch.Size([64, 1, 28, 28])\n",
            "shape of y:torch.Size([64])torch.int64\n",
            "shape of X [N, C, H, W]:torch.Size([64, 1, 28, 28])\n",
            "shape of y:torch.Size([64])torch.int64\n",
            "shape of X [N, C, H, W]:torch.Size([64, 1, 28, 28])\n",
            "shape of y:torch.Size([64])torch.int64\n",
            "shape of X [N, C, H, W]:torch.Size([64, 1, 28, 28])\n",
            "shape of y:torch.Size([64])torch.int64\n",
            "shape of X [N, C, H, W]:torch.Size([64, 1, 28, 28])\n",
            "shape of y:torch.Size([64])torch.int64\n",
            "shape of X [N, C, H, W]:torch.Size([64, 1, 28, 28])\n",
            "shape of y:torch.Size([64])torch.int64\n",
            "shape of X [N, C, H, W]:torch.Size([64, 1, 28, 28])\n",
            "shape of y:torch.Size([64])torch.int64\n",
            "shape of X [N, C, H, W]:torch.Size([64, 1, 28, 28])\n",
            "shape of y:torch.Size([64])torch.int64\n",
            "shape of X [N, C, H, W]:torch.Size([64, 1, 28, 28])\n",
            "shape of y:torch.Size([64])torch.int64\n",
            "shape of X [N, C, H, W]:torch.Size([64, 1, 28, 28])\n",
            "shape of y:torch.Size([64])torch.int64\n",
            "shape of X [N, C, H, W]:torch.Size([64, 1, 28, 28])\n",
            "shape of y:torch.Size([64])torch.int64\n",
            "shape of X [N, C, H, W]:torch.Size([64, 1, 28, 28])\n",
            "shape of y:torch.Size([64])torch.int64\n",
            "shape of X [N, C, H, W]:torch.Size([64, 1, 28, 28])\n",
            "shape of y:torch.Size([64])torch.int64\n",
            "shape of X [N, C, H, W]:torch.Size([64, 1, 28, 28])\n",
            "shape of y:torch.Size([64])torch.int64\n",
            "shape of X [N, C, H, W]:torch.Size([64, 1, 28, 28])\n",
            "shape of y:torch.Size([64])torch.int64\n",
            "shape of X [N, C, H, W]:torch.Size([64, 1, 28, 28])\n",
            "shape of y:torch.Size([64])torch.int64\n",
            "shape of X [N, C, H, W]:torch.Size([64, 1, 28, 28])\n",
            "shape of y:torch.Size([64])torch.int64\n",
            "shape of X [N, C, H, W]:torch.Size([64, 1, 28, 28])\n",
            "shape of y:torch.Size([64])torch.int64\n",
            "shape of X [N, C, H, W]:torch.Size([64, 1, 28, 28])\n",
            "shape of y:torch.Size([64])torch.int64\n",
            "shape of X [N, C, H, W]:torch.Size([64, 1, 28, 28])\n",
            "shape of y:torch.Size([64])torch.int64\n",
            "shape of X [N, C, H, W]:torch.Size([64, 1, 28, 28])\n",
            "shape of y:torch.Size([64])torch.int64\n",
            "shape of X [N, C, H, W]:torch.Size([64, 1, 28, 28])\n",
            "shape of y:torch.Size([64])torch.int64\n",
            "shape of X [N, C, H, W]:torch.Size([64, 1, 28, 28])\n",
            "shape of y:torch.Size([64])torch.int64\n",
            "shape of X [N, C, H, W]:torch.Size([64, 1, 28, 28])\n",
            "shape of y:torch.Size([64])torch.int64\n",
            "shape of X [N, C, H, W]:torch.Size([16, 1, 28, 28])\n",
            "shape of y:torch.Size([16])torch.int64\n"
          ]
        }
      ]
    },
    {
      "cell_type": "markdown",
      "source": [
        "2. CREATING MODELS"
      ],
      "metadata": {
        "id": "4nyRnK6p2-ib"
      }
    },
    {
      "cell_type": "code",
      "source": [
        "device = torch.accelerator.current_accelerator().type if torch.accelerator.is_available() else \"cpu\"\n",
        "print(f\"Using {device} device\")\n",
        "\n",
        "class NeuralNetwork(nn.Module):\n",
        "  def __init__(self):\n",
        "    super().__init__()\n",
        "    self.flatten = nn.Flatten()\n",
        "    self.linear_relu_stack = nn.Sequential(\n",
        "        nn.Linear(28*28, 512),\n",
        "        nn.ReLU(),\n",
        "        nn.Linear(512, 512),\n",
        "        nn.ReLU(),\n",
        "        nn.Linear(512, 10)\n",
        "    )\n",
        "  def forward(self, x):\n",
        "    x = self.flatten(x)\n",
        "    logits = self.linear_relu_stack(x)\n",
        "    return logits\n",
        "model = NeuralNetwork().to(device)\n",
        "print(model)"
      ],
      "metadata": {
        "colab": {
          "base_uri": "https://localhost:8080/"
        },
        "id": "ypWTg2c9sIqi",
        "outputId": "a2ff816f-257f-411e-8dd4-e4a995222305"
      },
      "execution_count": 6,
      "outputs": [
        {
          "output_type": "stream",
          "name": "stdout",
          "text": [
            "Using cpu device\n",
            "NeuralNetwork(\n",
            "  (flatten): Flatten(start_dim=1, end_dim=-1)\n",
            "  (linear_relu_stack): Sequential(\n",
            "    (0): Linear(in_features=784, out_features=512, bias=True)\n",
            "    (1): ReLU()\n",
            "    (2): Linear(in_features=512, out_features=512, bias=True)\n",
            "    (3): ReLU()\n",
            "    (4): Linear(in_features=512, out_features=10, bias=True)\n",
            "  )\n",
            ")\n"
          ]
        }
      ]
    },
    {
      "cell_type": "markdown",
      "source": [
        "3. Optimizing the Model Parameters"
      ],
      "metadata": {
        "id": "8lJ63dAB6szM"
      }
    },
    {
      "cell_type": "markdown",
      "source": [
        "3.1. to train a model, we need a loss function and an optimizer."
      ],
      "metadata": {
        "id": "1CHlPUEj7HZX"
      }
    },
    {
      "cell_type": "code",
      "source": [
        "loss_fn = nn.CrossEntropyLoss()\n",
        "optimizer = torch.optim.SGD(model.parameters(), lr = 1e-3)"
      ],
      "metadata": {
        "id": "M05YO9Im60Rc"
      },
      "execution_count": 7,
      "outputs": []
    },
    {
      "cell_type": "markdown",
      "source": [
        "3.2"
      ],
      "metadata": {
        "id": "v4Z3Cy0Y77RM"
      }
    },
    {
      "cell_type": "code",
      "source": [
        "def train(dataloader, mode, loss_fn, optimizer):\n",
        "  size = len(dataloader.dataset)\n",
        "  model.train()\n",
        "  for batch, (X, y) in enumerate(dataloader):\n",
        "    X, y = X.to(device), y.to(device)\n",
        "\n",
        "    pred = model(X)\n",
        "    loss = loss_fn(pred, y)\n",
        "    #Backpropagation\n",
        "    loss.backward()\n",
        "    optimizer.step()\n",
        "    optimizer.zero_grad()\n",
        "\n",
        "    if batch%100 == 0:\n",
        "      loss, current = loss.item(), (batch +1)*len(X)\n",
        "      print(f\"loss: {loss:>7f} [{current:>5d}/{size:>5d}]\")\n",
        ""
      ],
      "metadata": {
        "id": "NBx64rFu7by5"
      },
      "execution_count": 8,
      "outputs": []
    },
    {
      "cell_type": "code",
      "source": [
        "def test(dataloader, model, loss_fn):\n",
        "  size = len(dataloader.dataset)\n",
        "  num_batches = len(dataloader)\n",
        "  model.eval()\n",
        "  test_loss, correct = 0, 0\n",
        "  with torch.no_grad():\n",
        "    for X, y in dataloader:\n",
        "      X, y = X.to(device), y.to(device)\n",
        "      pred = model(X)\n",
        "      test_loss += loss_fn(pred, y).item()\n",
        "      correct += (pred.argmax(1) == y).type(torch.float).sum().item()\n",
        "  test_loss /= num_batches\n",
        "  correct /= size\n",
        "  print(f\"Test Error: \\n Accuracy: {(100*correct):.1f}%, Avg loss: {test_loss:.8f} \\n\")"
      ],
      "metadata": {
        "id": "1lun1AgKADWx"
      },
      "execution_count": 16,
      "outputs": []
    },
    {
      "cell_type": "code",
      "source": [
        "epochs = 5\n",
        "for t in range(epochs):\n",
        "  print(f\"Epoch {t+1}\\n--------------------\")\n",
        "  train(train_dataloader, model, loss_fn, optimizer)\n",
        "  test(test_dataloader, model, loss_fn)\n",
        "print(\"Done!\")"
      ],
      "metadata": {
        "colab": {
          "base_uri": "https://localhost:8080/"
        },
        "id": "CqQFaYtK-F_s",
        "outputId": "d32fcb91-5962-4cde-c8c3-7c52860c8d5c"
      },
      "execution_count": 17,
      "outputs": [
        {
          "output_type": "stream",
          "name": "stdout",
          "text": [
            "Epoch 1\n",
            "--------------------\n",
            "loss: 1.350026 [   64/60000]\n",
            "loss: 1.341615 [ 6464/60000]\n",
            "loss: 1.165470 [12864/60000]\n",
            "loss: 1.275508 [19264/60000]\n",
            "loss: 1.161828 [25664/60000]\n",
            "loss: 1.168739 [32064/60000]\n",
            "loss: 1.192387 [38464/60000]\n",
            "loss: 1.125712 [44864/60000]\n",
            "loss: 1.170092 [51264/60000]\n",
            "loss: 1.083625 [57664/60000]\n",
            "Test Error: \n",
            " Accuracy: 64.1%, Avg loss: 1.10625391 \n",
            "\n",
            "Epoch 2\n",
            "--------------------\n",
            "loss: 1.171679 [   64/60000]\n",
            "loss: 1.182287 [ 6464/60000]\n",
            "loss: 0.991855 [12864/60000]\n",
            "loss: 1.129894 [19264/60000]\n",
            "loss: 1.011682 [25664/60000]\n",
            "loss: 1.029839 [32064/60000]\n",
            "loss: 1.065961 [38464/60000]\n",
            "loss: 1.007274 [44864/60000]\n",
            "loss: 1.051863 [51264/60000]\n",
            "loss: 0.977406 [57664/60000]\n",
            "Test Error: \n",
            " Accuracy: 65.1%, Avg loss: 0.99460830 \n",
            "\n",
            "Epoch 3\n",
            "--------------------\n",
            "loss: 1.048932 [   64/60000]\n",
            "loss: 1.079377 [ 6464/60000]\n",
            "loss: 0.874256 [12864/60000]\n",
            "loss: 1.033719 [19264/60000]\n",
            "loss: 0.916929 [25664/60000]\n",
            "loss: 0.932214 [32064/60000]\n",
            "loss: 0.984272 [38464/60000]\n",
            "loss: 0.930926 [44864/60000]\n",
            "loss: 0.970389 [51264/60000]\n",
            "loss: 0.906735 [57664/60000]\n",
            "Test Error: \n",
            " Accuracy: 66.3%, Avg loss: 0.91905016 \n",
            "\n",
            "Epoch 4\n",
            "--------------------\n",
            "loss: 0.959367 [   64/60000]\n",
            "loss: 1.008287 [ 6464/60000]\n",
            "loss: 0.791035 [12864/60000]\n",
            "loss: 0.966167 [19264/60000]\n",
            "loss: 0.853709 [25664/60000]\n",
            "loss: 0.860970 [32064/60000]\n",
            "loss: 0.927162 [38464/60000]\n",
            "loss: 0.880383 [44864/60000]\n",
            "loss: 0.911900 [51264/60000]\n",
            "loss: 0.856130 [57664/60000]\n",
            "Test Error: \n",
            " Accuracy: 67.7%, Avg loss: 0.86505768 \n",
            "\n",
            "Epoch 5\n",
            "--------------------\n",
            "loss: 0.890934 [   64/60000]\n",
            "loss: 0.955191 [ 6464/60000]\n",
            "loss: 0.729427 [12864/60000]\n",
            "loss: 0.916235 [19264/60000]\n",
            "loss: 0.808974 [25664/60000]\n",
            "loss: 0.807468 [32064/60000]\n",
            "loss: 0.884460 [38464/60000]\n",
            "loss: 0.845676 [44864/60000]\n",
            "loss: 0.868584 [51264/60000]\n",
            "loss: 0.817617 [57664/60000]\n",
            "Test Error: \n",
            " Accuracy: 68.9%, Avg loss: 0.82454713 \n",
            "\n",
            "Done!\n"
          ]
        }
      ]
    },
    {
      "cell_type": "markdown",
      "source": [
        "4. Saving Models"
      ],
      "metadata": {
        "id": "BDJ6H62fAaGv"
      }
    },
    {
      "cell_type": "code",
      "source": [
        "torch.save(model.state_dict(), \"model.pth\")\n",
        "print(\"Saved PyTorch model state to model.pth\")"
      ],
      "metadata": {
        "colab": {
          "base_uri": "https://localhost:8080/"
        },
        "id": "TppAV7YV_dtM",
        "outputId": "05cf13db-234c-425c-87db-92275e5669fc"
      },
      "execution_count": 18,
      "outputs": [
        {
          "output_type": "stream",
          "name": "stdout",
          "text": [
            "Saved PyTorch model state to model.pth\n"
          ]
        }
      ]
    },
    {
      "cell_type": "markdown",
      "source": [
        "5. Loading Models"
      ],
      "metadata": {
        "id": "zKxKWhXTBEth"
      }
    },
    {
      "cell_type": "code",
      "source": [
        "model = NeuralNetwork().to(device)\n",
        "model.load_state_dict(torch.load(\"model.pth\", weights_only= True))"
      ],
      "metadata": {
        "colab": {
          "base_uri": "https://localhost:8080/"
        },
        "id": "J8XsDWaUAqqM",
        "outputId": "6f9091df-e45d-425e-b396-d864d7641af1"
      },
      "execution_count": 20,
      "outputs": [
        {
          "output_type": "execute_result",
          "data": {
            "text/plain": [
              "<All keys matched successfully>"
            ]
          },
          "metadata": {},
          "execution_count": 20
        }
      ]
    },
    {
      "cell_type": "markdown",
      "source": [
        "Model can now be used to make preidctions."
      ],
      "metadata": {
        "id": "ypPko2yIBaCR"
      }
    },
    {
      "cell_type": "code",
      "source": [
        "classes = [\n",
        "    \"T-shirt/top\",\n",
        "    \"Trouser\",\n",
        "    \"Pullover\",\n",
        "    \"Dress\",\n",
        "    \"Coat\",\n",
        "    \"Sandal\",\n",
        "    \"Shirt\",\n",
        "    \"Sneaker\",\n",
        "    \"Bag\",\n",
        "    \"Ankle boot\",\n",
        "]\n",
        "model.eval()\n",
        "x, y = test_data[0][0], test_data[0][1]\n",
        "with torch.no_grad():\n",
        "  x = x.to(device)\n",
        "  pred = model(x)\n",
        "  predicted, actual = classes[pred[0].argmax(0)], classes[y]\n",
        "  print(f'Predicted: \"{predicted}\", Actual:\"{actual}\"')"
      ],
      "metadata": {
        "colab": {
          "base_uri": "https://localhost:8080/"
        },
        "id": "9_lgqrQ2BZX5",
        "outputId": "2bef6342-80df-43c1-c8f9-9f08f3c0d4f4"
      },
      "execution_count": 21,
      "outputs": [
        {
          "output_type": "stream",
          "name": "stdout",
          "text": [
            "Predicted: \"Ankle boot\", Actual:\"Ankle boot\"\n"
          ]
        }
      ]
    }
  ]
}